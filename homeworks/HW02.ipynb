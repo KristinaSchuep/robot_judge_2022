{
 "cells": [
  {
   "cell_type": "markdown",
   "metadata": {},
   "source": [
    "# HW02 (due October 12th)"
   ]
  },
  {
   "cell_type": "markdown",
   "metadata": {},
   "source": [
    "In this homework you will investigate the *causal* of being part of a union on the number of hours worked. You will work with data from the National Longitudinal Survey. In particular, you have a panel of young women who were between 14 and 26 years of age in 1968, surveyed for 20 years.\n",
    "\n",
    "The purpose of this homework is ot make you think about the **identification** assumptions underlying your empirical strategy, namely the assumptions that allow the coefficient estimate from the regressions to be causal. Throughout the homework you will try to address the issue of **omitted variable bias** through different strategies, that will allow to make milder identification assumptions."
   ]
  },
  {
   "cell_type": "markdown",
   "metadata": {},
   "source": [
    "# Load Data"
   ]
  },
  {
   "cell_type": "code",
   "execution_count": 1,
   "metadata": {},
   "outputs": [],
   "source": [
    "##Load the NLSY dataset\n",
    "import pandas as pd\n",
    "import statsmodels.formula.api as smf\n",
    "import numpy as np\n",
    "from statsmodels.iolib.summary2 import summary_col\n",
    "\n",
    "data = pd.read_stata('https://www.stata-press.com/data/r16/nlswork.dta')\n",
    "data_labels = pd.read_stata('https://www.stata-press.com/data/r16/nlswork.dta', iterator=True).variable_labels()"
   ]
  },
  {
   "cell_type": "markdown",
   "metadata": {},
   "source": [
    "#  Summary statistics"
   ]
  },
  {
   "cell_type": "markdown",
   "metadata": {},
   "source": [
    "Inspect the data."
   ]
  },
  {
   "cell_type": "code",
   "execution_count": 2,
   "metadata": {},
   "outputs": [
    {
     "data": {
      "text/plain": [
       "{'idcode': 'NLS ID',\n",
       " 'year': 'interview year',\n",
       " 'birth_yr': 'birth year',\n",
       " 'age': 'age in current year',\n",
       " 'race': 'race',\n",
       " 'msp': '1 if married, spouse present',\n",
       " 'nev_mar': '1 if never married',\n",
       " 'grade': 'current grade completed',\n",
       " 'collgrad': '1 if college graduate',\n",
       " 'not_smsa': '1 if not SMSA',\n",
       " 'c_city': '1 if central city',\n",
       " 'south': '1 if south',\n",
       " 'ind_code': 'industry of employment',\n",
       " 'occ_code': 'occupation',\n",
       " 'union': '1 if union',\n",
       " 'wks_ue': 'weeks unemployed last year',\n",
       " 'ttl_exp': 'total work experience',\n",
       " 'tenure': 'job tenure, in years',\n",
       " 'hours': 'usual hours worked',\n",
       " 'wks_work': 'weeks worked last year',\n",
       " 'ln_wage': 'ln(wage/GNP deflator)'}"
      ]
     },
     "execution_count": 2,
     "metadata": {},
     "output_type": "execute_result"
    }
   ],
   "source": [
    "data_labels"
   ]
  },
  {
   "cell_type": "code",
   "execution_count": 3,
   "metadata": {
    "scrolled": true
   },
   "outputs": [
    {
     "data": {
      "text/html": [
       "<div>\n",
       "<style scoped>\n",
       "    .dataframe tbody tr th:only-of-type {\n",
       "        vertical-align: middle;\n",
       "    }\n",
       "\n",
       "    .dataframe tbody tr th {\n",
       "        vertical-align: top;\n",
       "    }\n",
       "\n",
       "    .dataframe thead th {\n",
       "        text-align: right;\n",
       "    }\n",
       "</style>\n",
       "<table border=\"1\" class=\"dataframe\">\n",
       "  <thead>\n",
       "    <tr style=\"text-align: right;\">\n",
       "      <th></th>\n",
       "      <th>idcode</th>\n",
       "      <th>year</th>\n",
       "      <th>birth_yr</th>\n",
       "      <th>age</th>\n",
       "      <th>race</th>\n",
       "      <th>msp</th>\n",
       "      <th>nev_mar</th>\n",
       "      <th>grade</th>\n",
       "      <th>collgrad</th>\n",
       "      <th>not_smsa</th>\n",
       "      <th>...</th>\n",
       "      <th>south</th>\n",
       "      <th>ind_code</th>\n",
       "      <th>occ_code</th>\n",
       "      <th>union</th>\n",
       "      <th>wks_ue</th>\n",
       "      <th>ttl_exp</th>\n",
       "      <th>tenure</th>\n",
       "      <th>hours</th>\n",
       "      <th>wks_work</th>\n",
       "      <th>ln_wage</th>\n",
       "    </tr>\n",
       "  </thead>\n",
       "  <tbody>\n",
       "    <tr>\n",
       "      <th>0</th>\n",
       "      <td>1</td>\n",
       "      <td>70</td>\n",
       "      <td>51</td>\n",
       "      <td>18.0</td>\n",
       "      <td>black</td>\n",
       "      <td>0.0</td>\n",
       "      <td>1.0</td>\n",
       "      <td>12.0</td>\n",
       "      <td>0</td>\n",
       "      <td>0.0</td>\n",
       "      <td>...</td>\n",
       "      <td>0.0</td>\n",
       "      <td>6.0</td>\n",
       "      <td>3.0</td>\n",
       "      <td>NaN</td>\n",
       "      <td>2.0</td>\n",
       "      <td>1.083333</td>\n",
       "      <td>0.083333</td>\n",
       "      <td>20.0</td>\n",
       "      <td>27.0</td>\n",
       "      <td>1.451214</td>\n",
       "    </tr>\n",
       "    <tr>\n",
       "      <th>1</th>\n",
       "      <td>1</td>\n",
       "      <td>71</td>\n",
       "      <td>51</td>\n",
       "      <td>19.0</td>\n",
       "      <td>black</td>\n",
       "      <td>1.0</td>\n",
       "      <td>0.0</td>\n",
       "      <td>12.0</td>\n",
       "      <td>0</td>\n",
       "      <td>0.0</td>\n",
       "      <td>...</td>\n",
       "      <td>0.0</td>\n",
       "      <td>4.0</td>\n",
       "      <td>6.0</td>\n",
       "      <td>NaN</td>\n",
       "      <td>22.0</td>\n",
       "      <td>1.275641</td>\n",
       "      <td>0.083333</td>\n",
       "      <td>44.0</td>\n",
       "      <td>10.0</td>\n",
       "      <td>1.028620</td>\n",
       "    </tr>\n",
       "    <tr>\n",
       "      <th>2</th>\n",
       "      <td>1</td>\n",
       "      <td>72</td>\n",
       "      <td>51</td>\n",
       "      <td>20.0</td>\n",
       "      <td>black</td>\n",
       "      <td>1.0</td>\n",
       "      <td>0.0</td>\n",
       "      <td>12.0</td>\n",
       "      <td>0</td>\n",
       "      <td>0.0</td>\n",
       "      <td>...</td>\n",
       "      <td>0.0</td>\n",
       "      <td>4.0</td>\n",
       "      <td>6.0</td>\n",
       "      <td>1.0</td>\n",
       "      <td>0.0</td>\n",
       "      <td>2.256410</td>\n",
       "      <td>0.916667</td>\n",
       "      <td>40.0</td>\n",
       "      <td>51.0</td>\n",
       "      <td>1.589977</td>\n",
       "    </tr>\n",
       "    <tr>\n",
       "      <th>3</th>\n",
       "      <td>1</td>\n",
       "      <td>73</td>\n",
       "      <td>51</td>\n",
       "      <td>21.0</td>\n",
       "      <td>black</td>\n",
       "      <td>1.0</td>\n",
       "      <td>0.0</td>\n",
       "      <td>12.0</td>\n",
       "      <td>0</td>\n",
       "      <td>0.0</td>\n",
       "      <td>...</td>\n",
       "      <td>0.0</td>\n",
       "      <td>4.0</td>\n",
       "      <td>6.0</td>\n",
       "      <td>NaN</td>\n",
       "      <td>0.0</td>\n",
       "      <td>2.314102</td>\n",
       "      <td>0.083333</td>\n",
       "      <td>40.0</td>\n",
       "      <td>3.0</td>\n",
       "      <td>1.780273</td>\n",
       "    </tr>\n",
       "    <tr>\n",
       "      <th>4</th>\n",
       "      <td>1</td>\n",
       "      <td>75</td>\n",
       "      <td>51</td>\n",
       "      <td>23.0</td>\n",
       "      <td>black</td>\n",
       "      <td>1.0</td>\n",
       "      <td>0.0</td>\n",
       "      <td>12.0</td>\n",
       "      <td>0</td>\n",
       "      <td>0.0</td>\n",
       "      <td>...</td>\n",
       "      <td>0.0</td>\n",
       "      <td>5.0</td>\n",
       "      <td>6.0</td>\n",
       "      <td>NaN</td>\n",
       "      <td>0.0</td>\n",
       "      <td>2.775641</td>\n",
       "      <td>0.166667</td>\n",
       "      <td>10.0</td>\n",
       "      <td>24.0</td>\n",
       "      <td>1.777012</td>\n",
       "    </tr>\n",
       "  </tbody>\n",
       "</table>\n",
       "<p>5 rows × 21 columns</p>\n",
       "</div>"
      ],
      "text/plain": [
       "   idcode  year  birth_yr   age   race  msp  nev_mar  grade  collgrad  \\\n",
       "0       1    70        51  18.0  black  0.0      1.0   12.0         0   \n",
       "1       1    71        51  19.0  black  1.0      0.0   12.0         0   \n",
       "2       1    72        51  20.0  black  1.0      0.0   12.0         0   \n",
       "3       1    73        51  21.0  black  1.0      0.0   12.0         0   \n",
       "4       1    75        51  23.0  black  1.0      0.0   12.0         0   \n",
       "\n",
       "   not_smsa  ...  south  ind_code  occ_code  union  wks_ue   ttl_exp  \\\n",
       "0       0.0  ...    0.0       6.0       3.0    NaN     2.0  1.083333   \n",
       "1       0.0  ...    0.0       4.0       6.0    NaN    22.0  1.275641   \n",
       "2       0.0  ...    0.0       4.0       6.0    1.0     0.0  2.256410   \n",
       "3       0.0  ...    0.0       4.0       6.0    NaN     0.0  2.314102   \n",
       "4       0.0  ...    0.0       5.0       6.0    NaN     0.0  2.775641   \n",
       "\n",
       "     tenure  hours  wks_work   ln_wage  \n",
       "0  0.083333   20.0      27.0  1.451214  \n",
       "1  0.083333   44.0      10.0  1.028620  \n",
       "2  0.916667   40.0      51.0  1.589977  \n",
       "3  0.083333   40.0       3.0  1.780273  \n",
       "4  0.166667   10.0      24.0  1.777012  \n",
       "\n",
       "[5 rows x 21 columns]"
      ]
     },
     "execution_count": 3,
     "metadata": {},
     "output_type": "execute_result"
    }
   ],
   "source": [
    "##Visualize the dataset\n",
    "data.head()"
   ]
  },
  {
   "cell_type": "code",
   "execution_count": 4,
   "metadata": {},
   "outputs": [
    {
     "data": {
      "text/plain": [
       "year\n",
       "68    1375\n",
       "69    1232\n",
       "70    1686\n",
       "71    1851\n",
       "72    1693\n",
       "73    1981\n",
       "75    2141\n",
       "77    2171\n",
       "78    1964\n",
       "80    1847\n",
       "82    2085\n",
       "83    1987\n",
       "85    2085\n",
       "87    2164\n",
       "88    2272\n",
       "dtype: int64"
      ]
     },
     "execution_count": 4,
     "metadata": {},
     "output_type": "execute_result"
    }
   ],
   "source": [
    "data.groupby('year').size()"
   ]
  },
  {
   "cell_type": "code",
   "execution_count": 5,
   "metadata": {},
   "outputs": [
    {
     "data": {
      "text/html": [
       "<div>\n",
       "<style scoped>\n",
       "    .dataframe tbody tr th:only-of-type {\n",
       "        vertical-align: middle;\n",
       "    }\n",
       "\n",
       "    .dataframe tbody tr th {\n",
       "        vertical-align: top;\n",
       "    }\n",
       "\n",
       "    .dataframe thead th {\n",
       "        text-align: right;\n",
       "    }\n",
       "</style>\n",
       "<table border=\"1\" class=\"dataframe\">\n",
       "  <thead>\n",
       "    <tr style=\"text-align: right;\">\n",
       "      <th></th>\n",
       "      <th>collgrad</th>\n",
       "      <th>union</th>\n",
       "    </tr>\n",
       "  </thead>\n",
       "  <tbody>\n",
       "    <tr>\n",
       "      <th>count</th>\n",
       "      <td>28534.000000</td>\n",
       "      <td>19238.000000</td>\n",
       "    </tr>\n",
       "    <tr>\n",
       "      <th>mean</th>\n",
       "      <td>0.168045</td>\n",
       "      <td>0.234432</td>\n",
       "    </tr>\n",
       "    <tr>\n",
       "      <th>std</th>\n",
       "      <td>0.373913</td>\n",
       "      <td>0.423654</td>\n",
       "    </tr>\n",
       "    <tr>\n",
       "      <th>min</th>\n",
       "      <td>0.000000</td>\n",
       "      <td>0.000000</td>\n",
       "    </tr>\n",
       "    <tr>\n",
       "      <th>25%</th>\n",
       "      <td>0.000000</td>\n",
       "      <td>0.000000</td>\n",
       "    </tr>\n",
       "    <tr>\n",
       "      <th>50%</th>\n",
       "      <td>0.000000</td>\n",
       "      <td>0.000000</td>\n",
       "    </tr>\n",
       "    <tr>\n",
       "      <th>75%</th>\n",
       "      <td>0.000000</td>\n",
       "      <td>0.000000</td>\n",
       "    </tr>\n",
       "    <tr>\n",
       "      <th>max</th>\n",
       "      <td>1.000000</td>\n",
       "      <td>1.000000</td>\n",
       "    </tr>\n",
       "  </tbody>\n",
       "</table>\n",
       "</div>"
      ],
      "text/plain": [
       "           collgrad         union\n",
       "count  28534.000000  19238.000000\n",
       "mean       0.168045      0.234432\n",
       "std        0.373913      0.423654\n",
       "min        0.000000      0.000000\n",
       "25%        0.000000      0.000000\n",
       "50%        0.000000      0.000000\n",
       "75%        0.000000      0.000000\n",
       "max        1.000000      1.000000"
      ]
     },
     "execution_count": 5,
     "metadata": {},
     "output_type": "execute_result"
    }
   ],
   "source": [
    "##tabulate college and union status \n",
    "data[['collgrad', 'union']].describe()"
   ]
  },
  {
   "cell_type": "code",
   "execution_count": 6,
   "metadata": {},
   "outputs": [],
   "source": [
    "##generate a variable for log hours worked\n",
    "data = data.assign(ln_hours = lambda x: np.log(x.hours))"
   ]
  },
  {
   "cell_type": "code",
   "execution_count": 7,
   "metadata": {},
   "outputs": [],
   "source": [
    "##plot log hours against year separately for union and non-union\n",
    "import seaborn as sns"
   ]
  },
  {
   "cell_type": "code",
   "execution_count": 8,
   "metadata": {},
   "outputs": [
    {
     "data": {
      "text/plain": [
       "<seaborn.axisgrid.FacetGrid at 0x27890de6220>"
      ]
     },
     "execution_count": 8,
     "metadata": {},
     "output_type": "execute_result"
    },
    {
     "data": {
      "image/png": "[encoded data removed]",
      "text/plain": [
       "<Figure size 432x216 with 2 Axes>"
      ]
     },
     "metadata": {
      "needs_background": "light"
     },
     "output_type": "display_data"
    }
   ],
   "source": [
    "g = sns.FacetGrid(data, col=\"union\")\n",
    "g.map_dataframe(sns.stripplot, x=\"year\", y=\"ln_hours\")"
   ]
  },
  {
   "cell_type": "markdown",
   "metadata": {},
   "source": [
    "# Regression: Effect of union status on hours worked"
   ]
  },
  {
   "cell_type": "code",
   "execution_count": 9,
   "metadata": {},
   "outputs": [
    {
     "data": {
      "text/html": [
       "<table class=\"simpletable\">\n",
       "<caption>OLS Regression Results</caption>\n",
       "<tr>\n",
       "  <th>Dep. Variable:</th>        <td>ln_hours</td>     <th>  R-squared:         </th> <td>   0.008</td> \n",
       "</tr>\n",
       "<tr>\n",
       "  <th>Model:</th>                   <td>OLS</td>       <th>  Adj. R-squared:    </th> <td>   0.008</td> \n",
       "</tr>\n",
       "<tr>\n",
       "  <th>Method:</th>             <td>Least Squares</td>  <th>  F-statistic:       </th> <td>   147.5</td> \n",
       "</tr>\n",
       "<tr>\n",
       "  <th>Date:</th>             <td>Mon, 10 Oct 2022</td> <th>  Prob (F-statistic):</th> <td>8.08e-34</td> \n",
       "</tr>\n",
       "<tr>\n",
       "  <th>Time:</th>                 <td>10:08:52</td>     <th>  Log-Likelihood:    </th> <td> -9865.7</td> \n",
       "</tr>\n",
       "<tr>\n",
       "  <th>No. Observations:</th>      <td> 19202</td>      <th>  AIC:               </th> <td>1.974e+04</td>\n",
       "</tr>\n",
       "<tr>\n",
       "  <th>Df Residuals:</th>          <td> 19200</td>      <th>  BIC:               </th> <td>1.975e+04</td>\n",
       "</tr>\n",
       "<tr>\n",
       "  <th>Df Model:</th>              <td>     1</td>      <th>                     </th>     <td> </td>    \n",
       "</tr>\n",
       "<tr>\n",
       "  <th>Covariance Type:</th>      <td>nonrobust</td>    <th>                     </th>     <td> </td>    \n",
       "</tr>\n",
       "</table>\n",
       "<table class=\"simpletable\">\n",
       "<tr>\n",
       "      <td></td>         <th>coef</th>     <th>std err</th>      <th>t</th>      <th>P>|t|</th>  <th>[0.025</th>    <th>0.975]</th>  \n",
       "</tr>\n",
       "<tr>\n",
       "  <th>Intercept</th> <td>    3.5270</td> <td>    0.003</td> <td> 1057.147</td> <td> 0.000</td> <td>    3.521</td> <td>    3.534</td>\n",
       "</tr>\n",
       "<tr>\n",
       "  <th>union</th>     <td>    0.0837</td> <td>    0.007</td> <td>   12.145</td> <td> 0.000</td> <td>    0.070</td> <td>    0.097</td>\n",
       "</tr>\n",
       "</table>\n",
       "<table class=\"simpletable\">\n",
       "<tr>\n",
       "  <th>Omnibus:</th>       <td>13206.652</td> <th>  Durbin-Watson:     </th>  <td>   1.222</td> \n",
       "</tr>\n",
       "<tr>\n",
       "  <th>Prob(Omnibus):</th>  <td> 0.000</td>   <th>  Jarque-Bera (JB):  </th> <td>188252.342</td>\n",
       "</tr>\n",
       "<tr>\n",
       "  <th>Skew:</th>           <td>-3.212</td>   <th>  Prob(JB):          </th>  <td>    0.00</td> \n",
       "</tr>\n",
       "<tr>\n",
       "  <th>Kurtosis:</th>       <td>16.930</td>   <th>  Cond. No.          </th>  <td>    2.52</td> \n",
       "</tr>\n",
       "</table><br/><br/>Notes:<br/>[1] Standard Errors assume that the covariance matrix of the errors is correctly specified."
      ],
      "text/plain": [
       "<class 'statsmodels.iolib.summary.Summary'>\n",
       "\"\"\"\n",
       "                            OLS Regression Results                            \n",
       "==============================================================================\n",
       "Dep. Variable:               ln_hours   R-squared:                       0.008\n",
       "Model:                            OLS   Adj. R-squared:                  0.008\n",
       "Method:                 Least Squares   F-statistic:                     147.5\n",
       "Date:                Mon, 10 Oct 2022   Prob (F-statistic):           8.08e-34\n",
       "Time:                        10:08:52   Log-Likelihood:                -9865.7\n",
       "No. Observations:               19202   AIC:                         1.974e+04\n",
       "Df Residuals:                   19200   BIC:                         1.975e+04\n",
       "Df Model:                           1                                         \n",
       "Covariance Type:            nonrobust                                         \n",
       "==============================================================================\n",
       "                 coef    std err          t      P>|t|      [0.025      0.975]\n",
       "------------------------------------------------------------------------------\n",
       "Intercept      3.5270      0.003   1057.147      0.000       3.521       3.534\n",
       "union          0.0837      0.007     12.145      0.000       0.070       0.097\n",
       "==============================================================================\n",
       "Omnibus:                    13206.652   Durbin-Watson:                   1.222\n",
       "Prob(Omnibus):                  0.000   Jarque-Bera (JB):           188252.342\n",
       "Skew:                          -3.212   Prob(JB):                         0.00\n",
       "Kurtosis:                      16.930   Cond. No.                         2.52\n",
       "==============================================================================\n",
       "\n",
       "Notes:\n",
       "[1] Standard Errors assume that the covariance matrix of the errors is correctly specified.\n",
       "\"\"\""
      ]
     },
     "execution_count": 9,
     "metadata": {},
     "output_type": "execute_result"
    }
   ],
   "source": [
    "##Regress hours worked against union status and display the results\n",
    "res = smf.ols(\"ln_hours ~ union\", data).fit()\n",
    "res.summary()"
   ]
  },
  {
   "cell_type": "code",
   "execution_count": 10,
   "metadata": {},
   "outputs": [
    {
     "data": {
      "text/html": [
       "<div>\n",
       "<style scoped>\n",
       "    .dataframe tbody tr th:only-of-type {\n",
       "        vertical-align: middle;\n",
       "    }\n",
       "\n",
       "    .dataframe tbody tr th {\n",
       "        vertical-align: top;\n",
       "    }\n",
       "\n",
       "    .dataframe thead th {\n",
       "        text-align: right;\n",
       "    }\n",
       "</style>\n",
       "<table border=\"1\" class=\"dataframe\">\n",
       "  <thead>\n",
       "    <tr style=\"text-align: right;\">\n",
       "      <th></th>\n",
       "      <th>Coefficient</th>\n",
       "      <th>Standard error</th>\n",
       "      <th>t-value</th>\n",
       "      <th>p-value</th>\n",
       "      <th>CI lower</th>\n",
       "      <th>CI higher</th>\n",
       "    </tr>\n",
       "  </thead>\n",
       "  <tbody>\n",
       "    <tr>\n",
       "      <th>union</th>\n",
       "      <td>0.084</td>\n",
       "      <td>0.006</td>\n",
       "      <td>12.145</td>\n",
       "      <td>0.0</td>\n",
       "      <td>0.07</td>\n",
       "      <td>0.097</td>\n",
       "    </tr>\n",
       "  </tbody>\n",
       "</table>\n",
       "</div>"
      ],
      "text/plain": [
       "       Coefficient  Standard error  t-value  p-value  CI lower  CI higher\n",
       "union        0.084           0.006   12.145      0.0      0.07      0.097"
      ]
     },
     "execution_count": 10,
     "metadata": {},
     "output_type": "execute_result"
    }
   ],
   "source": [
    "##Print or write out the coefficient on union, standard error, t-stat, p-value and confidence interval\n",
    "res_df = pd.DataFrame({\"Coefficient\":res.params,\n",
    "                       \"Standard error\":res.HC0_se,\n",
    "                       \"t-value\":res.tvalues,\n",
    "                       \"p-value\":res.pvalues,\n",
    "                       \"CI lower\":res.conf_int()[0],\n",
    "                       \"CI higher\":res.conf_int()[1]})\n",
    "res_df = res_df.round(decimals=3)\n",
    "res_df.loc['union':]"
   ]
  },
  {
   "cell_type": "markdown",
   "metadata": {},
   "source": [
    "On average, union members work 8.4% more hours per week than non-union members."
   ]
  },
  {
   "cell_type": "markdown",
   "metadata": {},
   "source": [
    "#### What is the identification assumption for the coefficient on union to be causal?\n",
    "\n",
    "\n",
    "\n"
   ]
  },
  {
   "cell_type": "markdown",
   "metadata": {},
   "source": [
    "The assumption is that there is no confounder, i.e. there is no variable that affects both the treatment and the outcome. For example, education or social status might affect both hours worked and union membership."
   ]
  },
  {
   "cell_type": "code",
   "execution_count": 11,
   "metadata": {},
   "outputs": [
    {
     "name": "stdout",
     "output_type": "stream",
     "text": [
      "\n",
      "=====================================\n",
      "               ln_hours I ln_hours II\n",
      "-------------------------------------\n",
      "Intercept      3.5270     3.5183     \n",
      "               (0.0033)   (0.0036)   \n",
      "R-squared      0.0076     0.0099     \n",
      "R-squared Adj. 0.0076     0.0098     \n",
      "collgrad                  0.0486     \n",
      "                          (0.0074)   \n",
      "union          0.0837     0.0806     \n",
      "               (0.0069)   (0.0069)   \n",
      "=====================================\n",
      "Standard errors in parentheses.\n"
     ]
    }
   ],
   "source": [
    "## add education (collgrad) to the regression and compare the coefficient on union with the previous result\n",
    "res1 = smf.ols(\"ln_hours ~ union + collgrad\", data).fit()\n",
    "print(summary_col([res,res1]))"
   ]
  },
  {
   "cell_type": "markdown",
   "metadata": {},
   "source": [
    "The coefficient on union is only slightly smaller when controlling for education and still highly statistically significant. Education does not seem to be a confounder."
   ]
  },
  {
   "cell_type": "code",
   "execution_count": 12,
   "metadata": {},
   "outputs": [
    {
     "name": "stdout",
     "output_type": "stream",
     "text": [
      "\n",
      "=======================================================\n",
      "                    ln_hours I ln_hours II ln_hours III\n",
      "-------------------------------------------------------\n",
      "Intercept           3.5270     3.5183      3.5113      \n",
      "                    (0.0033)   (0.0036)    (0.0095)    \n",
      "union               0.0837     0.0806      0.0541      \n",
      "                    (0.0069)   (0.0069)    (0.0069)    \n",
      "collgrad                       0.0486      0.0299      \n",
      "                               (0.0074)    (0.0092)    \n",
      "C(occ_code)[T.10.0]                        0.0426      \n",
      "                                           (0.0535)    \n",
      "C(occ_code)[T.11.0]                        0.0452      \n",
      "                                           (0.0384)    \n",
      "C(occ_code)[T.9.0]                         -0.1823     \n",
      "                                           (0.2257)    \n",
      "C(occ_code)[T.8.0]                         -0.0900     \n",
      "                                           (0.0120)    \n",
      "C(occ_code)[T.7.0]                         -0.5488     \n",
      "                                           (0.0252)    \n",
      "C(occ_code)[T.6.0]                         0.1085      \n",
      "                                           (0.0121)    \n",
      "C(occ_code)[T.5.0]                         0.1399      \n",
      "                                           (0.0233)    \n",
      "C(occ_code)[T.4.0]                         -0.1737     \n",
      "                                           (0.0166)    \n",
      "C(occ_code)[T.3.0]                         0.0280      \n",
      "                                           (0.0101)    \n",
      "C(occ_code)[T.2.0]                         0.1697      \n",
      "                                           (0.0138)    \n",
      "C(occ_code)[T.13.0]                        0.0581      \n",
      "                                           (0.0141)    \n",
      "C(occ_code)[T.12.0]                        0.1668      \n",
      "                                           (0.1749)    \n",
      "R-squared           0.0076     0.0099      0.0746      \n",
      "R-squared Adj.      0.0076     0.0098      0.0739      \n",
      "=======================================================\n",
      "Standard errors in parentheses.\n"
     ]
    }
   ],
   "source": [
    "## add occupation codes to the regression and compare the results with the previous one\n",
    "res2 = smf.ols(\"ln_hours ~ union + collgrad + C(occ_code)\", data).fit()\n",
    "print(summary_col([res,res1,res2], regressor_order=res1.params.index.tolist()))"
   ]
  },
  {
   "cell_type": "markdown",
   "metadata": {},
   "source": [
    "By adding occupation codes to the regression, the coefficient on union decreases to 0.0541, but it is still statistically significant."
   ]
  },
  {
   "cell_type": "markdown",
   "metadata": {},
   "source": [
    "#### In terms of causal inference, why is adding occupation code as a control probably not a good idea?\n"
   ]
  },
  {
   "cell_type": "markdown",
   "metadata": {},
   "source": [
    "The workers choice of occupation might be influenced by their union status. However, I think it is more likely that occupation choice affects both union status and hours worked, i.e. it is a potential confounder and should be controlled for. By controlling for occupation, we measure the association between union status and hours worked within occupations."
   ]
  },
  {
   "cell_type": "markdown",
   "metadata": {},
   "source": [
    "#### What are \"good controls\" in the dataset in terms of being exogenous to union status?\n"
   ]
  },
  {
   "cell_type": "markdown",
   "metadata": {},
   "source": [
    "Race and age are for sure exogenous to union status. It also likely that union status varies along these two variables. It might also be important to include 'year' as a control variable. For example, an exogenous shock to the economy could cause workers to enter (or exit) unions and to change their working hours at the same time."
   ]
  },
  {
   "cell_type": "code",
   "execution_count": 13,
   "metadata": {},
   "outputs": [
    {
     "data": {
      "text/plain": [
       "<AxesSubplot:xlabel='age', ylabel='ln_hours'>"
      ]
     },
     "execution_count": 13,
     "metadata": {},
     "output_type": "execute_result"
    },
    {
     "data": {
      "image/png": "[encoded data removed]",
      "text/plain": [
       "<Figure size 432x288 with 1 Axes>"
      ]
     },
     "metadata": {
      "needs_background": "light"
     },
     "output_type": "display_data"
    }
   ],
   "source": [
    "sns.regplot(data = data, x = 'age', y = 'ln_hours', order = 2)"
   ]
  },
  {
   "cell_type": "code",
   "execution_count": 14,
   "metadata": {},
   "outputs": [],
   "source": [
    "##add these controls to the regression\n",
    "res3 = smf.ols(\"ln_hours ~ union + collgrad + race + age + C(occ_code)\", data).fit()\n",
    "res4 = smf.ols(\"ln_hours ~ union + collgrad + race + age + C(year) + C(occ_code)\", data).fit()"
   ]
  },
  {
   "cell_type": "code",
   "execution_count": 15,
   "metadata": {},
   "outputs": [
    {
     "name": "stdout",
     "output_type": "stream",
     "text": [
      "\n",
      "=============================================================================\n",
      "                  1        2            3                4             5     \n",
      "                                 (add occupation) (add race & age) (add year)\n",
      "-----------------------------------------------------------------------------\n",
      "Intercept      3.5270   3.5183   3.5113           3.6279           3.4434    \n",
      "               (0.0033) (0.0036) (0.0095)         (0.0174)         (0.0272)  \n",
      "union          0.0837   0.0806   0.0541           0.0476           0.0471    \n",
      "               (0.0069) (0.0069) (0.0069)         (0.0069)         (0.0069)  \n",
      "collgrad                0.0486   0.0299           0.0359           0.0383    \n",
      "                        (0.0074) (0.0092)         (0.0091)         (0.0091)  \n",
      "race[T.black]                                     0.0964           0.0972    \n",
      "                                                  (0.0065)         (0.0065)  \n",
      "race[T.other]                                     0.0364           0.0377    \n",
      "                                                  (0.0271)         (0.0270)  \n",
      "age                                               -0.0042          -0.0076   \n",
      "                                                  (0.0005)         (0.0009)  \n",
      "R-squared      0.0076   0.0099   0.0746           0.0890           0.0933    \n",
      "R-squared Adj. 0.0076   0.0098   0.0739           0.0882           0.0920    \n",
      "=============================================================================\n",
      "Standard errors in parentheses.\n",
      "Coefficients for year- and occupation-dummies not shown.\n"
     ]
    }
   ],
   "source": [
    "res_print = summary_col([res,res1,res2,res3,res4], \n",
    "    model_names=['1','2', '3\\n(add occupation)', '4\\n(add race & age)', '5\\n(add year)'],\n",
    "    regressor_order=['Intercept', 'union', 'collgrad', 'race[T.black]', 'race[T.other]', 'age'], \n",
    "    drop_omitted=True)\n",
    "print(res_print)\n",
    "print(\"Coefficients for year- and occupation-dummies not shown.\")"
   ]
  },
  {
   "cell_type": "markdown",
   "metadata": {},
   "source": [
    "#### How do these change your estimates?\n"
   ]
  },
  {
   "cell_type": "markdown",
   "metadata": {},
   "source": [
    "Adding race and age reduces the coefficient of union, but it remains statistically significant. Adding a dummy variable for each year changes the estimates only marginally."
   ]
  },
  {
   "cell_type": "markdown",
   "metadata": {},
   "source": [
    "# Short Essay: Correlation/Causation"
   ]
  },
  {
   "cell_type": "markdown",
   "metadata": {},
   "source": [
    "**Find a news article mistaking correlation for causation. Link to the article and write a short paragraph explaining the mistake.**"
   ]
  },
  {
   "cell_type": "markdown",
   "metadata": {},
   "source": [
    "Article: https://insideparadeplatz.ch/2022/09/22/baby-crash-in-stadt-zuerich-beschleunigt-sich-massiv/ \n",
    "\n",
    "The article shows that the number of births in the city of Zurich in the first half of 2022 were about 20% lower than the average of births in the years from 2015-2019. The author points to the fact that the decline in births starts about nine months after the vaccination campaign was rolled out on large scale. The way he presents these facts suggest that the COVID-19 vaccines reduced fertility. \n",
    "\n",
    "First, it is true that the decline in births correlates with the vaccination roll-out with roughly a nine months lag. However, this is a classical example where a third variable, a confounder, likely caused both effects. For example, in spring and summer 2021, it was widely discussed that a COVID-19 infection is dangerous during pregnancy and that getting vaccinated would reduce the risk. It is therefore plausible that women planning to get pregnant waited for some months until after their second vaccination to try to get pregnant. This would explain the drop in births nine months later. \n",
    "Second, several other countries show a different time pattern where fertility declines nine months after the start of the pandemic - before vaccination roll-out (<a href=\"https://www.swissmedic.ch/swissmedic/en/home/news/coronavirus-covid-19/untersuchter-zusammenhang-fruchtbarkeit-und-covid-19-impfung.html\" target=\"_blank\">Swissmedic 2022</a>). This finding contradicts a causal effect of vaccines on fertility.\n"
   ]
  }
 ],
 "metadata": {
  "kernelspec": {
   "display_name": "Python 3.9.12 ('base')",
   "language": "python",
   "name": "python3"
  },
  "language_info": {
   "codemirror_mode": {
    "name": "ipython",
    "version": 3
   },
   "file_extension": ".py",
   "mimetype": "text/x-python",
   "name": "python",
   "nbconvert_exporter": "python",
   "pygments_lexer": "ipython3",
   "version": "3.9.12"
  },
  "vscode": {
   "interpreter": {
    "hash": "ad2bdc8ecc057115af97d19610ffacc2b4e99fae6737bb82f5d7fb13d2f2c186"
   }
  }
 },
 "nbformat": 4,
 "nbformat_minor": 4
}
