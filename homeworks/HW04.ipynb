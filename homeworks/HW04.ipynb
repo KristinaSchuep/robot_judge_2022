{
 "cells": [
  {
   "cell_type": "markdown",
   "metadata": {},
   "source": [
    "# HW04: RDD and Diff-in-Diff (due 26th October)\n",
    "\n",
    "**You will have to solve only one of the two parts (either the RDD or the DiD) to get full credit for this homework.**\n",
    "\n",
    "In this homework you will investigate the causal effect in two different settings, applying different **identification strategies**, You will also reflect and investigate the identification assumptions that allow for a causal interpretation. "
   ]
  },
  {
   "cell_type": "markdown",
   "metadata": {},
   "source": [
    "## Regression Discontinuity Design\n",
    "\n",
    "In this first part you will use data on mayors from municipalities in Brazil to invesitgate th effect of electoral accountability on corruption. The goal is to estimate the effect of being eligible for reelection (having reelection incentives) on misappropriation of resources exploiting random audits on municipalities before the elections. In Brazil there is a two mandate limit for mayors, implying that only mayors in the first mandate can be reelected. The reference paper is [Ferraz and Finan (2011)](https://www.aeaweb.org/articles?id=10.1257/aer.101.4.1274)."
   ]
  },
  {
   "cell_type": "code",
   "execution_count": 56,
   "metadata": {},
   "outputs": [],
   "source": [
    "# !pip install rdrobust"
   ]
  },
  {
   "cell_type": "code",
   "execution_count": 57,
   "metadata": {},
   "outputs": [],
   "source": [
    "from rdrobust import rdrobust, rdbwselect, rdplot\n",
    "import pandas as pd \n",
    "import warnings\n",
    "warnings.filterwarnings('ignore', category=FutureWarning)\n",
    "warnings.filterwarnings('ignore', category=DeprecationWarning)\n",
    "warnings.filterwarnings = lambda *a, **kw: None\n"
   ]
  },
  {
   "cell_type": "code",
   "execution_count": 58,
   "metadata": {},
   "outputs": [
    {
     "name": "stderr",
     "output_type": "stream",
     "text": [
      "c:\\Users\\kschuepbach\\.conda\\envs\\brj-course\\lib\\site-packages\\pandas\\io\\stata.py:1514: UnicodeWarning: \n",
      "One or more strings in the dta file could not be decoded using utf-8, and\n",
      "so the fallback encoding of latin-1 is being used.  This can happen when a file\n",
      "has been incorrectly encoded by Stata or some other software. You should verify\n",
      "the string values returned are correct.\n"
     ]
    }
   ],
   "source": [
    "df = pd.read_stata('data/HW04_data_rdd.dta')"
   ]
  },
  {
   "cell_type": "code",
   "execution_count": 59,
   "metadata": {},
   "outputs": [
    {
     "name": "stderr",
     "output_type": "stream",
     "text": [
      "c:\\Users\\kschuepbach\\.conda\\envs\\brj-course\\lib\\site-packages\\pandas\\io\\stata.py:1514: UnicodeWarning: \n",
      "One or more strings in the dta file could not be decoded using utf-8, and\n",
      "so the fallback encoding of latin-1 is being used.  This can happen when a file\n",
      "has been incorrectly encoded by Stata or some other software. You should verify\n",
      "the string values returned are correct.\n"
     ]
    },
    {
     "data": {
      "text/plain": [
       "{'uf': 'state',\n",
       " 'nsorteio': 'Número do sorteio',\n",
       " 'totrecursos': 'Total de recurso fiscalizado no municipio',\n",
       " 'tot_os': 'Total de OS fiscalizadas no municipio',\n",
       " 'pop': 'População no ano de 2000',\n",
       " 'purb': 'Proporção da população urbana no ano de 2000',\n",
       " 'p_secundario': 'Proporção da população com 18 anos ou mais com secundario completo',\n",
       " 'cod_ibge6': 'cod_ibge6',\n",
       " 'pib_capita_02': 'PIB per capita deflacionado em reais de 2001',\n",
       " 'op_01_04': 'Dummy se o munic teve orçamento participativo no periodo',\n",
       " 'reeleito': 'Dummy de reeleição',\n",
       " 'ENEP2000': '2000 ENEP',\n",
       " 'ENLP2000': '2000 ENLP',\n",
       " 'pref_idade_tse': 'Idade do prefeito',\n",
       " 'comarca': 'Sede de Comarca',\n",
       " 'reeleito_2004': 'Dummy dos candidatos que se reelegeram na eleição de 2004',\n",
       " 'p_cad_pref': 'Proporção de vereadores eleitos do mesmo partido do prefeito',\n",
       " 'rec_transf_correntes': '(mean) rec_transf_correntes',\n",
       " 'gini_ipea': '',\n",
       " 'fiscalizacoes': 'Total ordens de serviço dada pela planilha CGU',\n",
       " 'valor_fiscalizado': 'Total ordens de serviço dada pela planilha CGU',\n",
       " 'incumbent': '(sum) incumbent',\n",
       " 'vereador9600': '',\n",
       " 'pmismanagement': '',\n",
       " 'elected1': '',\n",
       " 'first': '',\n",
       " 'lpib02': '',\n",
       " 'lpop': '',\n",
       " 'pref_masc': '',\n",
       " 'pref_escola': '',\n",
       " 'media2': '',\n",
       " 'vereador_eleit': '',\n",
       " 'mun_novo': '',\n",
       " 'exp_prefeito': '',\n",
       " 'samepartygov98': '',\n",
       " 'lrec_trans': '',\n",
       " 'lfunc_ativ': '',\n",
       " 'lrec_fisc': '',\n",
       " 'ncorrupt': '',\n",
       " 'valor_corrupt': '',\n",
       " 'pcorrupt': '',\n",
       " 'dcorrupt': '',\n",
       " 'esample2': '',\n",
       " 'wm': 'vote margin',\n",
       " 'winning_margin': 'running variable',\n",
       " 'party': 'party affiliation'}"
      ]
     },
     "execution_count": 59,
     "metadata": {},
     "output_type": "execute_result"
    }
   ],
   "source": [
    "df_labels = pd.read_stata('data/HW04_data_rdd.dta', iterator=True).variable_labels()\n",
    "df_labels"
   ]
  },
  {
   "cell_type": "code",
   "execution_count": 60,
   "metadata": {
    "scrolled": true
   },
   "outputs": [
    {
     "data": {
      "text/html": [
       "<div>\n",
       "<style scoped>\n",
       "    .dataframe tbody tr th:only-of-type {\n",
       "        vertical-align: middle;\n",
       "    }\n",
       "\n",
       "    .dataframe tbody tr th {\n",
       "        vertical-align: top;\n",
       "    }\n",
       "\n",
       "    .dataframe thead th {\n",
       "        text-align: right;\n",
       "    }\n",
       "</style>\n",
       "<table border=\"1\" class=\"dataframe\">\n",
       "  <thead>\n",
       "    <tr style=\"text-align: right;\">\n",
       "      <th></th>\n",
       "      <th>uf</th>\n",
       "      <th>nsorteio</th>\n",
       "      <th>totrecursos</th>\n",
       "      <th>tot_os</th>\n",
       "      <th>pop</th>\n",
       "      <th>purb</th>\n",
       "      <th>p_secundario</th>\n",
       "      <th>cod_ibge6</th>\n",
       "      <th>pib_capita_02</th>\n",
       "      <th>op_01_04</th>\n",
       "      <th>...</th>\n",
       "      <th>lfunc_ativ</th>\n",
       "      <th>lrec_fisc</th>\n",
       "      <th>ncorrupt</th>\n",
       "      <th>valor_corrupt</th>\n",
       "      <th>pcorrupt</th>\n",
       "      <th>dcorrupt</th>\n",
       "      <th>esample2</th>\n",
       "      <th>wm</th>\n",
       "      <th>winning_margin</th>\n",
       "      <th>party</th>\n",
       "    </tr>\n",
       "  </thead>\n",
       "  <tbody>\n",
       "    <tr>\n",
       "      <th>0</th>\n",
       "      <td>RO</td>\n",
       "      <td>5</td>\n",
       "      <td>6913597.38</td>\n",
       "      <td>47.0</td>\n",
       "      <td>18207</td>\n",
       "      <td>0.815401</td>\n",
       "      <td>0.248250</td>\n",
       "      <td>566128.0</td>\n",
       "      <td>3548.000977</td>\n",
       "      <td>0</td>\n",
       "      <td>...</td>\n",
       "      <td>6.167517</td>\n",
       "      <td>15.749001</td>\n",
       "      <td>3.0</td>\n",
       "      <td>672785.125</td>\n",
       "      <td>0.097313</td>\n",
       "      <td>1.0</td>\n",
       "      <td>1.0</td>\n",
       "      <td>0.030935</td>\n",
       "      <td>-0.030935</td>\n",
       "      <td>16</td>\n",
       "    </tr>\n",
       "    <tr>\n",
       "      <th>1</th>\n",
       "      <td>RO</td>\n",
       "      <td>7</td>\n",
       "      <td>7135210.78</td>\n",
       "      <td>62.0</td>\n",
       "      <td>10459</td>\n",
       "      <td>0.198203</td>\n",
       "      <td>0.110925</td>\n",
       "      <td>566130.0</td>\n",
       "      <td>4203.421875</td>\n",
       "      <td>0</td>\n",
       "      <td>...</td>\n",
       "      <td>5.641907</td>\n",
       "      <td>15.780552</td>\n",
       "      <td>0.0</td>\n",
       "      <td>0.000</td>\n",
       "      <td>0.000000</td>\n",
       "      <td>0.0</td>\n",
       "      <td>1.0</td>\n",
       "      <td>0.172863</td>\n",
       "      <td>0.172863</td>\n",
       "      <td>3</td>\n",
       "    </tr>\n",
       "    <tr>\n",
       "      <th>2</th>\n",
       "      <td>RO</td>\n",
       "      <td>2</td>\n",
       "      <td>26821074.06</td>\n",
       "      <td>140.0</td>\n",
       "      <td>40884</td>\n",
       "      <td>0.649178</td>\n",
       "      <td>0.254702</td>\n",
       "      <td>566138.0</td>\n",
       "      <td>3904.267334</td>\n",
       "      <td>0</td>\n",
       "      <td>...</td>\n",
       "      <td>6.872128</td>\n",
       "      <td>17.104698</td>\n",
       "      <td>1.0</td>\n",
       "      <td>0.000</td>\n",
       "      <td>0.000000</td>\n",
       "      <td>1.0</td>\n",
       "      <td>1.0</td>\n",
       "      <td>0.310956</td>\n",
       "      <td>0.310956</td>\n",
       "      <td>18</td>\n",
       "    </tr>\n",
       "    <tr>\n",
       "      <th>3</th>\n",
       "      <td>RO</td>\n",
       "      <td>4</td>\n",
       "      <td>14710780.70</td>\n",
       "      <td>89.0</td>\n",
       "      <td>47382</td>\n",
       "      <td>0.726457</td>\n",
       "      <td>0.267212</td>\n",
       "      <td>566151.0</td>\n",
       "      <td>4081.257812</td>\n",
       "      <td>0</td>\n",
       "      <td>...</td>\n",
       "      <td>6.979145</td>\n",
       "      <td>16.504091</td>\n",
       "      <td>0.0</td>\n",
       "      <td>0.000</td>\n",
       "      <td>0.000000</td>\n",
       "      <td>0.0</td>\n",
       "      <td>1.0</td>\n",
       "      <td>0.391912</td>\n",
       "      <td>0.391912</td>\n",
       "      <td>18</td>\n",
       "    </tr>\n",
       "    <tr>\n",
       "      <th>4</th>\n",
       "      <td>RO</td>\n",
       "      <td>3</td>\n",
       "      <td>4181534.83</td>\n",
       "      <td>NaN</td>\n",
       "      <td>23874</td>\n",
       "      <td>0.271257</td>\n",
       "      <td>0.134546</td>\n",
       "      <td>566155.0</td>\n",
       "      <td>2192.473633</td>\n",
       "      <td>1</td>\n",
       "      <td>...</td>\n",
       "      <td>6.118097</td>\n",
       "      <td>15.246189</td>\n",
       "      <td>0.0</td>\n",
       "      <td>0.000</td>\n",
       "      <td>0.000000</td>\n",
       "      <td>0.0</td>\n",
       "      <td>1.0</td>\n",
       "      <td>0.186155</td>\n",
       "      <td>0.186155</td>\n",
       "      <td>14</td>\n",
       "    </tr>\n",
       "  </tbody>\n",
       "</table>\n",
       "<p>5 rows × 46 columns</p>\n",
       "</div>"
      ],
      "text/plain": [
       "   uf  nsorteio  totrecursos  tot_os    pop      purb  p_secundario  \\\n",
       "0  RO         5   6913597.38    47.0  18207  0.815401      0.248250   \n",
       "1  RO         7   7135210.78    62.0  10459  0.198203      0.110925   \n",
       "2  RO         2  26821074.06   140.0  40884  0.649178      0.254702   \n",
       "3  RO         4  14710780.70    89.0  47382  0.726457      0.267212   \n",
       "4  RO         3   4181534.83     NaN  23874  0.271257      0.134546   \n",
       "\n",
       "   cod_ibge6  pib_capita_02  op_01_04  ...  lfunc_ativ  lrec_fisc  ncorrupt  \\\n",
       "0   566128.0    3548.000977         0  ...    6.167517  15.749001       3.0   \n",
       "1   566130.0    4203.421875         0  ...    5.641907  15.780552       0.0   \n",
       "2   566138.0    3904.267334         0  ...    6.872128  17.104698       1.0   \n",
       "3   566151.0    4081.257812         0  ...    6.979145  16.504091       0.0   \n",
       "4   566155.0    2192.473633         1  ...    6.118097  15.246189       0.0   \n",
       "\n",
       "   valor_corrupt  pcorrupt  dcorrupt  esample2        wm  winning_margin  \\\n",
       "0     672785.125  0.097313       1.0       1.0  0.030935       -0.030935   \n",
       "1          0.000  0.000000       0.0       1.0  0.172863        0.172863   \n",
       "2          0.000  0.000000       1.0       1.0  0.310956        0.310956   \n",
       "3          0.000  0.000000       0.0       1.0  0.391912        0.391912   \n",
       "4          0.000  0.000000       0.0       1.0  0.186155        0.186155   \n",
       "\n",
       "   party  \n",
       "0     16  \n",
       "1      3  \n",
       "2     18  \n",
       "3     18  \n",
       "4     14  \n",
       "\n",
       "[5 rows x 46 columns]"
      ]
     },
     "execution_count": 60,
     "metadata": {},
     "output_type": "execute_result"
    }
   ],
   "source": [
    "df = df[df['esample2']==1]\n",
    "df.head()"
   ]
  },
  {
   "cell_type": "markdown",
   "metadata": {},
   "source": [
    "The main outcome of interest is *pcorrupt*, namely, the share of audited resources found that involve corruption (a measure of misappropriation). The explanatory variable is *first*, a dummy variable indicating whether the mayor is in his first mandate. The regression of interest is the following: \n",
    "\n",
    "$$pcorrupt_i = \\beta_0 + \\beta_1 first_i + \\varepsilon_i$$"
   ]
  },
  {
   "cell_type": "code",
   "execution_count": 61,
   "metadata": {},
   "outputs": [
    {
     "data": {
      "text/html": [
       "<table class=\"simpletable\">\n",
       "<caption>OLS Regression Results</caption>\n",
       "<tr>\n",
       "  <th>Dep. Variable:</th>        <td>pcorrupt</td>     <th>  R-squared:         </th> <td>   0.008</td>\n",
       "</tr>\n",
       "<tr>\n",
       "  <th>Model:</th>                   <td>OLS</td>       <th>  Adj. R-squared:    </th> <td>   0.006</td>\n",
       "</tr>\n",
       "<tr>\n",
       "  <th>Method:</th>             <td>Least Squares</td>  <th>  F-statistic:       </th> <td>   3.943</td>\n",
       "</tr>\n",
       "<tr>\n",
       "  <th>Date:</th>             <td>Mon, 24 Oct 2022</td> <th>  Prob (F-statistic):</th>  <td>0.0476</td> \n",
       "</tr>\n",
       "<tr>\n",
       "  <th>Time:</th>                 <td>10:51:23</td>     <th>  Log-Likelihood:    </th> <td>  415.01</td>\n",
       "</tr>\n",
       "<tr>\n",
       "  <th>No. Observations:</th>      <td>   476</td>      <th>  AIC:               </th> <td>  -826.0</td>\n",
       "</tr>\n",
       "<tr>\n",
       "  <th>Df Residuals:</th>          <td>   474</td>      <th>  BIC:               </th> <td>  -817.7</td>\n",
       "</tr>\n",
       "<tr>\n",
       "  <th>Df Model:</th>              <td>     1</td>      <th>                     </th>     <td> </td>   \n",
       "</tr>\n",
       "<tr>\n",
       "  <th>Covariance Type:</th>         <td>HC1</td>       <th>                     </th>     <td> </td>   \n",
       "</tr>\n",
       "</table>\n",
       "<table class=\"simpletable\">\n",
       "<tr>\n",
       "      <td></td>         <th>coef</th>     <th>std err</th>      <th>z</th>      <th>P>|z|</th>  <th>[0.025</th>    <th>0.975]</th>  \n",
       "</tr>\n",
       "<tr>\n",
       "  <th>Intercept</th> <td>    0.0737</td> <td>    0.007</td> <td>   10.039</td> <td> 0.000</td> <td>    0.059</td> <td>    0.088</td>\n",
       "</tr>\n",
       "<tr>\n",
       "  <th>first</th>     <td>   -0.0188</td> <td>    0.009</td> <td>   -1.986</td> <td> 0.047</td> <td>   -0.037</td> <td>   -0.000</td>\n",
       "</tr>\n",
       "</table>\n",
       "<table class=\"simpletable\">\n",
       "<tr>\n",
       "  <th>Omnibus:</th>       <td>318.592</td> <th>  Durbin-Watson:     </th> <td>   1.866</td>\n",
       "</tr>\n",
       "<tr>\n",
       "  <th>Prob(Omnibus):</th> <td> 0.000</td>  <th>  Jarque-Bera (JB):  </th> <td>3161.573</td>\n",
       "</tr>\n",
       "<tr>\n",
       "  <th>Skew:</th>          <td> 2.874</td>  <th>  Prob(JB):          </th> <td>    0.00</td>\n",
       "</tr>\n",
       "<tr>\n",
       "  <th>Kurtosis:</th>      <td>14.242</td>  <th>  Cond. No.          </th> <td>    2.81</td>\n",
       "</tr>\n",
       "</table><br/><br/>Notes:<br/>[1] Standard Errors are heteroscedasticity robust (HC1)"
      ],
      "text/plain": [
       "<class 'statsmodels.iolib.summary.Summary'>\n",
       "\"\"\"\n",
       "                            OLS Regression Results                            \n",
       "==============================================================================\n",
       "Dep. Variable:               pcorrupt   R-squared:                       0.008\n",
       "Model:                            OLS   Adj. R-squared:                  0.006\n",
       "Method:                 Least Squares   F-statistic:                     3.943\n",
       "Date:                Mon, 24 Oct 2022   Prob (F-statistic):             0.0476\n",
       "Time:                        10:51:23   Log-Likelihood:                 415.01\n",
       "No. Observations:                 476   AIC:                            -826.0\n",
       "Df Residuals:                     474   BIC:                            -817.7\n",
       "Df Model:                           1                                         \n",
       "Covariance Type:                  HC1                                         \n",
       "==============================================================================\n",
       "                 coef    std err          z      P>|z|      [0.025      0.975]\n",
       "------------------------------------------------------------------------------\n",
       "Intercept      0.0737      0.007     10.039      0.000       0.059       0.088\n",
       "first         -0.0188      0.009     -1.986      0.047      -0.037      -0.000\n",
       "==============================================================================\n",
       "Omnibus:                      318.592   Durbin-Watson:                   1.866\n",
       "Prob(Omnibus):                  0.000   Jarque-Bera (JB):             3161.573\n",
       "Skew:                           2.874   Prob(JB):                         0.00\n",
       "Kurtosis:                      14.242   Cond. No.                         2.81\n",
       "==============================================================================\n",
       "\n",
       "Notes:\n",
       "[1] Standard Errors are heteroscedasticity robust (HC1)\n",
       "\"\"\""
      ]
     },
     "execution_count": 61,
     "metadata": {},
     "output_type": "execute_result"
    }
   ],
   "source": [
    "## run the regression above using robust standard errors\n",
    "import statsmodels.formula.api as smf \n",
    "from statsmodels.iolib.summary2 import summary_col\n",
    "\n",
    "ols1 = smf.ols(\"pcorrupt ~ first\", data=df).fit(cov_type='HC1')\n",
    "ols1.summary()"
   ]
  },
  {
   "cell_type": "markdown",
   "metadata": {},
   "source": [
    "**What could be some sources of bias, namely, variables that act as confounder?**\n",
    "\n",
    "Characteristics of the mayor that make both re-election and corruption more likely - for example gender and education level."
   ]
  },
  {
   "cell_type": "code",
   "execution_count": 62,
   "metadata": {},
   "outputs": [],
   "source": [
    "## run the regression above adding the variables that may act as a confounder\n",
    "ols2 = smf.ols(\"pcorrupt ~ first + pref_masc + pref_escola\", data=df).fit(cov_type='HC1')"
   ]
  },
  {
   "cell_type": "code",
   "execution_count": 63,
   "metadata": {},
   "outputs": [
    {
     "data": {
      "text/html": [
       "<table class=\"simpletable\">\n",
       "<caption>OLS Regression Results</caption>\n",
       "<tr>\n",
       "  <th>Dep. Variable:</th>        <td>pcorrupt</td>     <th>  R-squared:         </th> <td>   0.020</td>\n",
       "</tr>\n",
       "<tr>\n",
       "  <th>Model:</th>                   <td>OLS</td>       <th>  Adj. R-squared:    </th> <td>   0.014</td>\n",
       "</tr>\n",
       "<tr>\n",
       "  <th>Method:</th>             <td>Least Squares</td>  <th>  F-statistic:       </th> <td>   3.052</td>\n",
       "</tr>\n",
       "<tr>\n",
       "  <th>Date:</th>             <td>Mon, 24 Oct 2022</td> <th>  Prob (F-statistic):</th>  <td>0.0283</td> \n",
       "</tr>\n",
       "<tr>\n",
       "  <th>Time:</th>                 <td>10:51:23</td>     <th>  Log-Likelihood:    </th> <td>  417.83</td>\n",
       "</tr>\n",
       "<tr>\n",
       "  <th>No. Observations:</th>      <td>   476</td>      <th>  AIC:               </th> <td>  -827.7</td>\n",
       "</tr>\n",
       "<tr>\n",
       "  <th>Df Residuals:</th>          <td>   472</td>      <th>  BIC:               </th> <td>  -811.0</td>\n",
       "</tr>\n",
       "<tr>\n",
       "  <th>Df Model:</th>              <td>     3</td>      <th>                     </th>     <td> </td>   \n",
       "</tr>\n",
       "<tr>\n",
       "  <th>Covariance Type:</th>         <td>HC1</td>       <th>                     </th>     <td> </td>   \n",
       "</tr>\n",
       "</table>\n",
       "<table class=\"simpletable\">\n",
       "<tr>\n",
       "       <td></td>          <th>coef</th>     <th>std err</th>      <th>z</th>      <th>P>|z|</th>  <th>[0.025</th>    <th>0.975]</th>  \n",
       "</tr>\n",
       "<tr>\n",
       "  <th>Intercept</th>   <td>    0.1334</td> <td>    0.031</td> <td>    4.281</td> <td> 0.000</td> <td>    0.072</td> <td>    0.194</td>\n",
       "</tr>\n",
       "<tr>\n",
       "  <th>first</th>       <td>   -0.0189</td> <td>    0.009</td> <td>   -2.013</td> <td> 0.044</td> <td>   -0.037</td> <td>   -0.000</td>\n",
       "</tr>\n",
       "<tr>\n",
       "  <th>pref_masc</th>   <td>   -0.0316</td> <td>    0.026</td> <td>   -1.214</td> <td> 0.225</td> <td>   -0.083</td> <td>    0.019</td>\n",
       "</tr>\n",
       "<tr>\n",
       "  <th>pref_escola</th> <td>   -0.0049</td> <td>    0.002</td> <td>   -2.057</td> <td> 0.040</td> <td>   -0.010</td> <td>   -0.000</td>\n",
       "</tr>\n",
       "</table>\n",
       "<table class=\"simpletable\">\n",
       "<tr>\n",
       "  <th>Omnibus:</th>       <td>317.705</td> <th>  Durbin-Watson:     </th> <td>   1.861</td>\n",
       "</tr>\n",
       "<tr>\n",
       "  <th>Prob(Omnibus):</th> <td> 0.000</td>  <th>  Jarque-Bera (JB):  </th> <td>3142.193</td>\n",
       "</tr>\n",
       "<tr>\n",
       "  <th>Skew:</th>          <td> 2.864</td>  <th>  Prob(JB):          </th> <td>    0.00</td>\n",
       "</tr>\n",
       "<tr>\n",
       "  <th>Kurtosis:</th>      <td>14.208</td>  <th>  Cond. No.          </th> <td>    46.8</td>\n",
       "</tr>\n",
       "</table><br/><br/>Notes:<br/>[1] Standard Errors are heteroscedasticity robust (HC1)"
      ],
      "text/plain": [
       "<class 'statsmodels.iolib.summary.Summary'>\n",
       "\"\"\"\n",
       "                            OLS Regression Results                            \n",
       "==============================================================================\n",
       "Dep. Variable:               pcorrupt   R-squared:                       0.020\n",
       "Model:                            OLS   Adj. R-squared:                  0.014\n",
       "Method:                 Least Squares   F-statistic:                     3.052\n",
       "Date:                Mon, 24 Oct 2022   Prob (F-statistic):             0.0283\n",
       "Time:                        10:51:23   Log-Likelihood:                 417.83\n",
       "No. Observations:                 476   AIC:                            -827.7\n",
       "Df Residuals:                     472   BIC:                            -811.0\n",
       "Df Model:                           3                                         \n",
       "Covariance Type:                  HC1                                         \n",
       "===============================================================================\n",
       "                  coef    std err          z      P>|z|      [0.025      0.975]\n",
       "-------------------------------------------------------------------------------\n",
       "Intercept       0.1334      0.031      4.281      0.000       0.072       0.194\n",
       "first          -0.0189      0.009     -2.013      0.044      -0.037      -0.000\n",
       "pref_masc      -0.0316      0.026     -1.214      0.225      -0.083       0.019\n",
       "pref_escola    -0.0049      0.002     -2.057      0.040      -0.010      -0.000\n",
       "==============================================================================\n",
       "Omnibus:                      317.705   Durbin-Watson:                   1.861\n",
       "Prob(Omnibus):                  0.000   Jarque-Bera (JB):             3142.193\n",
       "Skew:                           2.864   Prob(JB):                         0.00\n",
       "Kurtosis:                      14.208   Cond. No.                         46.8\n",
       "==============================================================================\n",
       "\n",
       "Notes:\n",
       "[1] Standard Errors are heteroscedasticity robust (HC1)\n",
       "\"\"\""
      ]
     },
     "execution_count": 63,
     "metadata": {},
     "output_type": "execute_result"
    }
   ],
   "source": [
    "## display the results \n",
    "ols2.summary()"
   ]
  },
  {
   "cell_type": "markdown",
   "metadata": {},
   "source": [
    "**In your opinion, are there any additional sources of bias that threatens the causal interpretation of the results?**\n",
    "\n",
    "Some characteristics of the municipality - population, region, ressources etc. - might influence both the chances of re-election and the probability of corruption."
   ]
  },
  {
   "cell_type": "markdown",
   "metadata": {},
   "source": [
    "To make sure that this is not the case we will use a regression discontinuity design where the running variable is the margin by which the incumbent won or lost in the previous election. Namely, we compare municipalities where incumbents won or lost by a narrow margin. This comparison provides quasi-random assignment of first-term and second-term mayors across these competitive elections."
   ]
  },
  {
   "cell_type": "code",
   "execution_count": 64,
   "metadata": {
    "scrolled": true
   },
   "outputs": [
    {
     "data": {
      "image/png": "[encoded data removed]",
      "text/plain": [
       "<Figure size 640x480 with 1 Axes>"
      ]
     },
     "metadata": {},
     "output_type": "display_data"
    },
    {
     "name": "stdout",
     "output_type": "stream",
     "text": [
      "\n",
      "Call: rdplot\n",
      "Number of Observations:                   328\n",
      "Kernel:                               Uniform\n",
      "Polynomial Order Est. (p):                  2\n",
      "\n",
      "                                Left      Right\n",
      "------------------------------------------------\n",
      "Number of Observations           126        202\n",
      "Number of Effective Obs          126        202\n",
      "Bandwith poly. fit (h)         0.671      0.918\n",
      "Number of bins scale               1          1\n",
      "Bins Selected                     15         15\n",
      "Average Bin Length             0.048      0.061\n",
      "Median Bin Length              0.045      0.061\n",
      "IMSE-optimal bins                5.0        3.0\n",
      "Mimicking Variance bins         15.0       11.0\n",
      "\n",
      "Relative to IMSE-optimal:\n",
      "Implied scale                    3.0        5.0\n",
      "WIMSE variance weight          0.036      0.008\n",
      "WIMSE bias weight              0.964      0.992\n"
     ]
    },
    {
     "data": {
      "text/plain": []
     },
     "execution_count": 64,
     "metadata": {},
     "output_type": "execute_result"
    }
   ],
   "source": [
    "## plot the RD plot using as running variable the variable winning_margin\n",
    "## use a second order polynomial and 15 bins at each side\n",
    "from rdrobust import rdrobust, rdbwselect, rdplot\n",
    "\n",
    "margin = df.dropna(subset=['winning_margin']).winning_margin\n",
    "corruption = df.dropna(subset=['winning_margin']).pcorrupt\n",
    "rdplot(y=corruption, x=margin, nbins=15, masspoints='adjust', p=2,\n",
    "         title=\"Corruption by winning margin\", \n",
    "         y_label=\"Corruption\",\n",
    "         x_label=\"Winning margin\")"
   ]
  },
  {
   "cell_type": "code",
   "execution_count": 65,
   "metadata": {},
   "outputs": [
    {
     "name": "stdout",
     "output_type": "stream",
     "text": [
      "Call: rdrobust\n",
      "Number of Observations:                   328\n",
      "Polynomial Order Est. (p):                  4\n",
      "Polynomial Order Bias (q):                  5\n",
      "Kernel:                            Triangular\n",
      "Bandwidth Selection:                    mserd\n",
      "Var-Cov Estimator:                        HC1\n",
      "\n",
      "                                Left      Right\n",
      "------------------------------------------------\n",
      "Number of Observations           126        202\n",
      "Number of Unique Obs.            126        201\n",
      "Number of Effective Obs.          93        118\n",
      "Bandwidth Estimation           0.187      0.187\n",
      "Bandwidth Bias                 0.245      0.245\n",
      "rho (h/b)                      0.765      0.765\n",
      "\n",
      "Method             Coef.     S.E.   t-stat    P>|t|       95% CI      \n",
      "-------------------------------------------------------------------------\n",
      "Conventional       0.029    0.044     0.66   5.090e-01    [-0.057, 0.115]\n",
      "Robust                 -        -    0.857   3.914e-01    [-0.049, 0.126]\n",
      "\n"
     ]
    }
   ],
   "source": [
    "## run the RD regression using the same dependent and explanatory variable as before\n",
    "## include 4th degree polynomial and the covariates that you included above\n",
    "from operator import concat\n",
    "\n",
    "covs = pd.concat([df.dropna(subset=['winning_margin'])[['pref_masc', 'pref_escola']]], axis=1)\n",
    "print(rdrobust(y=corruption, x=margin, p=4, vce='hc1', covs=covs))\n"
   ]
  },
  {
   "cell_type": "markdown",
   "metadata": {},
   "source": [
    "**Interpret the coefficient**\n",
    "\n",
    "Including the covariates and a 4-degree polynomial, the coefficient turns positive and is no longer significant. "
   ]
  },
  {
   "cell_type": "markdown",
   "metadata": {},
   "source": [
    "## Difference-in-Differences"
   ]
  },
  {
   "cell_type": "markdown",
   "metadata": {},
   "source": [
    "In this part you will use data from Argentina to investigate the causal effect of police on crime. Following the paper by [Di Tella and Schargrodsky (2004)](https://www.aeaweb.org/articles?id=10.1257/000282804322970733), you will exploit the follow-up of a terrorist attack tto the Jewish center in Buenos Aires in July 1994, after which all Jewish institution received police protection. This event induced a geographical allocation of police forces orthogonal to a crime regression allowing to isolate the causal effect of having more police in a neighborhood on a proxy for crime (car thefts), through a difference-in-differences analysis. "
   ]
  },
  {
   "cell_type": "code",
   "execution_count": null,
   "metadata": {
    "scrolled": false
   },
   "outputs": [],
   "source": [
    "df = pd.read_stata('data/HW04_data_DiD.dta')\n",
    "df_labels = pd.read_stata('data/HW04_data_DiD.dta', iterator=True).variable_labels()\n",
    "df_labels"
   ]
  },
  {
   "cell_type": "code",
   "execution_count": null,
   "metadata": {},
   "outputs": [],
   "source": [
    "df.head()"
   ]
  },
  {
   "cell_type": "markdown",
   "metadata": {},
   "source": [
    "The main outcome of interest is *totrob*, the total number of car thefts (proxy for criminal activity). The main explanatory variable is a dummy variable indicating whether the there is a Jewish institution in the neighborhood **and** the observation is after July (*inst1p*). The main regression is the following: \n",
    "\n",
    "<center>$totrob_i = \\beta_0 + \\beta_1 inst1p_i + \\varepsilon_i$</center>"
   ]
  },
  {
   "cell_type": "code",
   "execution_count": null,
   "metadata": {},
   "outputs": [],
   "source": [
    "## Run the regression above with robust standard errors\n",
    "import statsmodels.formula.api as smf\n",
    "\n",
    "ols1 = ..."
   ]
  },
  {
   "cell_type": "markdown",
   "metadata": {},
   "source": [
    "**Why this estimate CANNOT be interpreted as causal?**"
   ]
  },
  {
   "cell_type": "code",
   "execution_count": null,
   "metadata": {},
   "outputs": [],
   "source": [
    "## Plot the time series of car thefts separately for blocks with and without a jewish institutions\n",
    "## Add a vertical line indicating the terrorist attack \n",
    "import seaborn as sns\n",
    "import matplotlib.pyplot as plt\n"
   ]
  },
  {
   "cell_type": "markdown",
   "metadata": {},
   "source": [
    "**Does the parallel trend assumption hold?**"
   ]
  },
  {
   "cell_type": "code",
   "execution_count": null,
   "metadata": {},
   "outputs": [],
   "source": [
    "##Run the regression above including month and block fixed effects\n",
    "from linearmodels import PanelOLS\n",
    "did = ..."
   ]
  },
  {
   "cell_type": "code",
   "execution_count": null,
   "metadata": {},
   "outputs": [],
   "source": [
    "##show the results from both regressions"
   ]
  },
  {
   "cell_type": "markdown",
   "metadata": {},
   "source": [
    "**Compare and interpret the results**"
   ]
  }
 ],
 "metadata": {
  "kernelspec": {
   "display_name": "Python 3.9.13 ('brj-course')",
   "language": "python",
   "name": "python3"
  },
  "language_info": {
   "codemirror_mode": {
    "name": "ipython",
    "version": 3
   },
   "file_extension": ".py",
   "mimetype": "text/x-python",
   "name": "python",
   "nbconvert_exporter": "python",
   "pygments_lexer": "ipython3",
   "version": "3.9.13"
  },
  "vscode": {
   "interpreter": {
    "hash": "88dbc22f836b631f637dcfc4375a58b315b0a79a63edde253f3a63ee642f5514"
   }
  }
 },
 "nbformat": 4,
 "nbformat_minor": 5
}
