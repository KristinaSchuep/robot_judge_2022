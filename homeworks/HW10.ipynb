{
 "cells": [
  {
   "cell_type": "markdown",
   "metadata": {},
   "source": [
    "# HW10: Algorithmic Fairness \n",
    "\n",
    "### Note: to complete most of this homework notions from week 11 slides are needed\n",
    "\n",
    "In this homework you will assess racial bias in the COMPAS algorithm and judges decisions. \n",
    "\n",
    "The data is a collection of 7000 criminal cases in Florida in which COMPAS was used and it contains information about defendants' demographics, criminal history (e.g., juvenile criminal records), court decision and recidivism."
   ]
  },
  {
   "cell_type": "code",
   "execution_count": 93,
   "metadata": {},
   "outputs": [],
   "source": [
    "import pandas as pd \n",
    "import numpy as np\n",
    "import matplotlib.pyplot as plt\n",
    "import seaborn as sns\n",
    "sns.set_theme()\n",
    "import warnings\n",
    "warnings.filterwarnings('ignore', category=FutureWarning)\n",
    "warnings.filterwarnings('ignore', category=DeprecationWarning)\n",
    "warnings.filterwarnings = lambda *a, **kw: None"
   ]
  },
  {
   "cell_type": "markdown",
   "metadata": {},
   "source": [
    "## Data Preparation"
   ]
  },
  {
   "cell_type": "code",
   "execution_count": 94,
   "metadata": {},
   "outputs": [
    {
     "data": {
      "text/html": [
       "<div>\n",
       "<style scoped>\n",
       "    .dataframe tbody tr th:only-of-type {\n",
       "        vertical-align: middle;\n",
       "    }\n",
       "\n",
       "    .dataframe tbody tr th {\n",
       "        vertical-align: top;\n",
       "    }\n",
       "\n",
       "    .dataframe thead th {\n",
       "        text-align: right;\n",
       "    }\n",
       "</style>\n",
       "<table border=\"1\" class=\"dataframe\">\n",
       "  <thead>\n",
       "    <tr style=\"text-align: right;\">\n",
       "      <th></th>\n",
       "      <th>id</th>\n",
       "      <th>name</th>\n",
       "      <th>first</th>\n",
       "      <th>last</th>\n",
       "      <th>compas_screening_date</th>\n",
       "      <th>sex</th>\n",
       "      <th>dob</th>\n",
       "      <th>age</th>\n",
       "      <th>age_cat</th>\n",
       "      <th>race</th>\n",
       "      <th>...</th>\n",
       "      <th>v_decile_score</th>\n",
       "      <th>v_score_text</th>\n",
       "      <th>v_screening_date</th>\n",
       "      <th>in_custody</th>\n",
       "      <th>out_custody</th>\n",
       "      <th>priors_count.1</th>\n",
       "      <th>start</th>\n",
       "      <th>end</th>\n",
       "      <th>event</th>\n",
       "      <th>two_year_recid</th>\n",
       "    </tr>\n",
       "  </thead>\n",
       "  <tbody>\n",
       "    <tr>\n",
       "      <th>0</th>\n",
       "      <td>1</td>\n",
       "      <td>miguel hernandez</td>\n",
       "      <td>miguel</td>\n",
       "      <td>hernandez</td>\n",
       "      <td>2013-08-14</td>\n",
       "      <td>Male</td>\n",
       "      <td>1947-04-18</td>\n",
       "      <td>69</td>\n",
       "      <td>Greater than 45</td>\n",
       "      <td>Other</td>\n",
       "      <td>...</td>\n",
       "      <td>1</td>\n",
       "      <td>Low</td>\n",
       "      <td>2013-08-14</td>\n",
       "      <td>2014-07-07</td>\n",
       "      <td>2014-07-14</td>\n",
       "      <td>0</td>\n",
       "      <td>0</td>\n",
       "      <td>327</td>\n",
       "      <td>0</td>\n",
       "      <td>0</td>\n",
       "    </tr>\n",
       "    <tr>\n",
       "      <th>1</th>\n",
       "      <td>3</td>\n",
       "      <td>kevon dixon</td>\n",
       "      <td>kevon</td>\n",
       "      <td>dixon</td>\n",
       "      <td>2013-01-27</td>\n",
       "      <td>Male</td>\n",
       "      <td>1982-01-22</td>\n",
       "      <td>34</td>\n",
       "      <td>25 - 45</td>\n",
       "      <td>African-American</td>\n",
       "      <td>...</td>\n",
       "      <td>1</td>\n",
       "      <td>Low</td>\n",
       "      <td>2013-01-27</td>\n",
       "      <td>2013-01-26</td>\n",
       "      <td>2013-02-05</td>\n",
       "      <td>0</td>\n",
       "      <td>9</td>\n",
       "      <td>159</td>\n",
       "      <td>1</td>\n",
       "      <td>1</td>\n",
       "    </tr>\n",
       "    <tr>\n",
       "      <th>2</th>\n",
       "      <td>4</td>\n",
       "      <td>ed philo</td>\n",
       "      <td>ed</td>\n",
       "      <td>philo</td>\n",
       "      <td>2013-04-14</td>\n",
       "      <td>Male</td>\n",
       "      <td>1991-05-14</td>\n",
       "      <td>24</td>\n",
       "      <td>Less than 25</td>\n",
       "      <td>African-American</td>\n",
       "      <td>...</td>\n",
       "      <td>3</td>\n",
       "      <td>Low</td>\n",
       "      <td>2013-04-14</td>\n",
       "      <td>2013-06-16</td>\n",
       "      <td>2013-06-16</td>\n",
       "      <td>4</td>\n",
       "      <td>0</td>\n",
       "      <td>63</td>\n",
       "      <td>0</td>\n",
       "      <td>1</td>\n",
       "    </tr>\n",
       "    <tr>\n",
       "      <th>3</th>\n",
       "      <td>5</td>\n",
       "      <td>marcu brown</td>\n",
       "      <td>marcu</td>\n",
       "      <td>brown</td>\n",
       "      <td>2013-01-13</td>\n",
       "      <td>Male</td>\n",
       "      <td>1993-01-21</td>\n",
       "      <td>23</td>\n",
       "      <td>Less than 25</td>\n",
       "      <td>African-American</td>\n",
       "      <td>...</td>\n",
       "      <td>6</td>\n",
       "      <td>Medium</td>\n",
       "      <td>2013-01-13</td>\n",
       "      <td>NaN</td>\n",
       "      <td>NaN</td>\n",
       "      <td>1</td>\n",
       "      <td>0</td>\n",
       "      <td>1174</td>\n",
       "      <td>0</td>\n",
       "      <td>0</td>\n",
       "    </tr>\n",
       "    <tr>\n",
       "      <th>4</th>\n",
       "      <td>6</td>\n",
       "      <td>bouthy pierrelouis</td>\n",
       "      <td>bouthy</td>\n",
       "      <td>pierrelouis</td>\n",
       "      <td>2013-03-26</td>\n",
       "      <td>Male</td>\n",
       "      <td>1973-01-22</td>\n",
       "      <td>43</td>\n",
       "      <td>25 - 45</td>\n",
       "      <td>Other</td>\n",
       "      <td>...</td>\n",
       "      <td>1</td>\n",
       "      <td>Low</td>\n",
       "      <td>2013-03-26</td>\n",
       "      <td>NaN</td>\n",
       "      <td>NaN</td>\n",
       "      <td>2</td>\n",
       "      <td>0</td>\n",
       "      <td>1102</td>\n",
       "      <td>0</td>\n",
       "      <td>0</td>\n",
       "    </tr>\n",
       "  </tbody>\n",
       "</table>\n",
       "<p>5 rows × 53 columns</p>\n",
       "</div>"
      ],
      "text/plain": [
       "   id                name   first         last compas_screening_date   sex  \\\n",
       "0   1    miguel hernandez  miguel    hernandez            2013-08-14  Male   \n",
       "1   3         kevon dixon   kevon        dixon            2013-01-27  Male   \n",
       "2   4            ed philo      ed        philo            2013-04-14  Male   \n",
       "3   5         marcu brown   marcu        brown            2013-01-13  Male   \n",
       "4   6  bouthy pierrelouis  bouthy  pierrelouis            2013-03-26  Male   \n",
       "\n",
       "          dob  age          age_cat              race  ...  v_decile_score  \\\n",
       "0  1947-04-18   69  Greater than 45             Other  ...               1   \n",
       "1  1982-01-22   34          25 - 45  African-American  ...               1   \n",
       "2  1991-05-14   24     Less than 25  African-American  ...               3   \n",
       "3  1993-01-21   23     Less than 25  African-American  ...               6   \n",
       "4  1973-01-22   43          25 - 45             Other  ...               1   \n",
       "\n",
       "   v_score_text  v_screening_date  in_custody  out_custody  priors_count.1  \\\n",
       "0           Low        2013-08-14  2014-07-07   2014-07-14               0   \n",
       "1           Low        2013-01-27  2013-01-26   2013-02-05               0   \n",
       "2           Low        2013-04-14  2013-06-16   2013-06-16               4   \n",
       "3        Medium        2013-01-13         NaN          NaN               1   \n",
       "4           Low        2013-03-26         NaN          NaN               2   \n",
       "\n",
       "  start   end event two_year_recid  \n",
       "0     0   327     0              0  \n",
       "1     9   159     1              1  \n",
       "2     0    63     0              1  \n",
       "3     0  1174     0              0  \n",
       "4     0  1102     0              0  \n",
       "\n",
       "[5 rows x 53 columns]"
      ]
     },
     "execution_count": 94,
     "metadata": {},
     "output_type": "execute_result"
    }
   ],
   "source": [
    "df = pd.read_csv('https://raw.githubusercontent.com/propublica/compas-analysis/master/compas-scores-two-years.csv')\n",
    "df.head()"
   ]
  },
  {
   "cell_type": "code",
   "execution_count": 204,
   "metadata": {},
   "outputs": [
    {
     "name": "stdout",
     "output_type": "stream",
     "text": [
      "<class 'pandas.core.frame.DataFrame'>\n",
      "RangeIndex: 7214 entries, 0 to 7213\n",
      "Data columns (total 83 columns):\n",
      " #   Column                   Non-Null Count  Dtype          \n",
      "---  ------                   --------------  -----          \n",
      " 0   id                       7214 non-null   int64          \n",
      " 1   name                     7214 non-null   object         \n",
      " 2   first                    7214 non-null   object         \n",
      " 3   last                     7214 non-null   object         \n",
      " 4   compas_screening_date    7214 non-null   object         \n",
      " 5   sex                      7214 non-null   object         \n",
      " 6   dob                      7214 non-null   object         \n",
      " 7   age                      7214 non-null   int64          \n",
      " 8   age_cat                  7214 non-null   object         \n",
      " 9   race                     7214 non-null   object         \n",
      " 10  juv_fel_count            7214 non-null   int64          \n",
      " 11  decile_score             7214 non-null   int64          \n",
      " 12  juv_misd_count           7214 non-null   int64          \n",
      " 13  juv_other_count          7214 non-null   int64          \n",
      " 14  priors_count             7214 non-null   int64          \n",
      " 15  days_b_screening_arrest  6907 non-null   float64        \n",
      " 16  c_jail_in                6907 non-null   object         \n",
      " 17  c_jail_out               6907 non-null   object         \n",
      " 18  c_case_number            7192 non-null   object         \n",
      " 19  c_offense_date           6055 non-null   object         \n",
      " 20  c_arrest_date            1137 non-null   object         \n",
      " 21  c_days_from_compas       7192 non-null   float64        \n",
      " 22  c_charge_degree          7214 non-null   object         \n",
      " 23  c_charge_desc            7185 non-null   object         \n",
      " 24  is_recid                 7214 non-null   int64          \n",
      " 25  r_case_number            3471 non-null   object         \n",
      " 26  r_charge_degree          3471 non-null   object         \n",
      " 27  r_days_from_arrest       2316 non-null   float64        \n",
      " 28  r_offense_date           3471 non-null   object         \n",
      " 29  r_charge_desc            3413 non-null   object         \n",
      " 30  r_jail_in                2316 non-null   object         \n",
      " 31  r_jail_out               2316 non-null   object         \n",
      " 32  violent_recid            0 non-null      float64        \n",
      " 33  is_violent_recid         7214 non-null   int64          \n",
      " 34  vr_case_number           819 non-null    object         \n",
      " 35  vr_charge_degree         819 non-null    object         \n",
      " 36  vr_offense_date          819 non-null    object         \n",
      " 37  vr_charge_desc           819 non-null    object         \n",
      " 38  type_of_assessment       7214 non-null   object         \n",
      " 39  decile_score.1           7214 non-null   int64          \n",
      " 40  score_text               7214 non-null   object         \n",
      " 41  screening_date           7214 non-null   object         \n",
      " 42  v_type_of_assessment     7214 non-null   object         \n",
      " 43  v_decile_score           7214 non-null   int64          \n",
      " 44  v_score_text             7214 non-null   object         \n",
      " 45  v_screening_date         7214 non-null   object         \n",
      " 46  in_custody               6978 non-null   object         \n",
      " 47  out_custody              6978 non-null   object         \n",
      " 48  priors_count.1           7214 non-null   int64          \n",
      " 49  start                    7214 non-null   int64          \n",
      " 50  end                      7214 non-null   int64          \n",
      " 51  event                    7214 non-null   int64          \n",
      " 52  two_year_recid           7214 non-null   int64          \n",
      " 53  days_from_recid          2903 non-null   float64        \n",
      " 54  two_year_recid2          7214 non-null   int32          \n",
      " 55  felony                   7214 non-null   int32          \n",
      " 56  age_cat_25 - 45          7214 non-null   uint8          \n",
      " 57  age_cat_Greater than 45  7214 non-null   uint8          \n",
      " 58  age_cat_Less than 25     7214 non-null   uint8          \n",
      " 59  African-American         7214 non-null   uint8          \n",
      " 60  Asian                    7214 non-null   uint8          \n",
      " 61  Caucasian                7214 non-null   uint8          \n",
      " 62  Hispanic                 7214 non-null   uint8          \n",
      " 63  Native American          7214 non-null   uint8          \n",
      " 64  Other                    7214 non-null   uint8          \n",
      " 65  male                     7214 non-null   int32          \n",
      " 66  score_text_high          7214 non-null   uint8          \n",
      " 67  score_text_low           7214 non-null   uint8          \n",
      " 68  score_text_medium        7214 non-null   uint8          \n",
      " 69  jail_days                6907 non-null   timedelta64[ns]\n",
      " 70  jailed                   7214 non-null   int32          \n",
      " 71  age_cat_25 - 45          7214 non-null   uint8          \n",
      " 72  age_cat_Greater than 45  7214 non-null   uint8          \n",
      " 73  age_cat_Less than 25     7214 non-null   uint8          \n",
      " 74  African-American         7214 non-null   uint8          \n",
      " 75  Asian                    7214 non-null   uint8          \n",
      " 76  Caucasian                7214 non-null   uint8          \n",
      " 77  Hispanic                 7214 non-null   uint8          \n",
      " 78  Native American          7214 non-null   uint8          \n",
      " 79  Other                    7214 non-null   uint8          \n",
      " 80  score_text_high          7214 non-null   uint8          \n",
      " 81  score_text_low           7214 non-null   uint8          \n",
      " 82  score_text_medium        7214 non-null   uint8          \n",
      "dtypes: float64(5), int32(4), int64(16), object(33), timedelta64[ns](1), uint8(24)\n",
      "memory usage: 3.3+ MB\n"
     ]
    }
   ],
   "source": [
    "df.info()"
   ]
  },
  {
   "cell_type": "code",
   "execution_count": 205,
   "metadata": {},
   "outputs": [],
   "source": [
    "# Dummy for recidivism within two years\n",
    "df['days_from_recid'] = pd.to_datetime(df['r_offense_date']) - pd.to_datetime(df['c_offense_date'])\n",
    "df['days_from_recid'] = df['days_from_recid'].dt.days\n",
    "df['two_year_recid2'] = (df['days_from_recid']<=730).astype(int)\n",
    "\n",
    "#generate felony charge dummies\n",
    "df['felony'] = (df['c_charge_degree'] == 'F').astype(int)\n",
    "\n",
    "#generate age dummies\n",
    "d = pd.get_dummies(df['age_cat'])\n",
    "df = pd.concat([df, d], axis=1)\n",
    "df = df.rename(columns={'25 - 45':'age_cat_25 - 45', 'Greater than 45':'age_cat_Greater than 45', 'Less than 25':'age_cat_Less than 25'})\n",
    "\n",
    "#generate ethnicity, race and compas score dummies\n",
    "d = pd.get_dummies(df['race'])\n",
    "df = pd.concat([df, d], axis=1)\n",
    "df['male'] = (df['sex'] == 'Male').astype(int)\n",
    "d = pd.get_dummies(df['score_text'])\n",
    "df = pd.concat([df, d], axis=1)\n",
    "df = df.rename(columns={'High':'score_text_high', 'Medium':'score_text_medium', 'Low':'score_text_low'})"
   ]
  },
  {
   "cell_type": "markdown",
   "metadata": {},
   "source": [
    "### Setting outcomes and predictors\n",
    "\n",
    "The *ideal* target variable for the COMPAS algorithm is the presence of a recidivism episode, while for judges is the decision to send the defendant to jail. For the predictors we use some deomgraphic characteristics **excluding race**, criminal hisotry and type of crime. "
   ]
  },
  {
   "cell_type": "code",
   "execution_count": 206,
   "metadata": {},
   "outputs": [
    {
     "data": {
      "text/plain": [
       "0    4283\n",
       "1    2931\n",
       "Name: jailed, dtype: int64"
      ]
     },
     "execution_count": 206,
     "metadata": {},
     "output_type": "execute_result"
    }
   ],
   "source": [
    "# judge decision: \"jailed\" = more than one day in jail.\n",
    "df['jail_days'] = pd.to_datetime(df['c_jail_out']) - pd.to_datetime(df['c_jail_in'])\n",
    "df['jailed'] = (df.jail_days.dt.days > 1).astype(int)\n",
    "D = df['jailed']\n",
    "D.value_counts()"
   ]
  },
  {
   "cell_type": "code",
   "execution_count": 207,
   "metadata": {},
   "outputs": [
    {
     "data": {
      "text/plain": [
       "0    4557\n",
       "1    2657\n",
       "Name: two_year_recid2, dtype: int64"
      ]
     },
     "execution_count": 207,
     "metadata": {},
     "output_type": "execute_result"
    }
   ],
   "source": [
    "# Algorithm outcome\n",
    "Y = df['two_year_recid2'] \n",
    "Y.value_counts()"
   ]
  },
  {
   "cell_type": "code",
   "execution_count": 208,
   "metadata": {},
   "outputs": [
    {
     "data": {
      "text/html": [
       "<div>\n",
       "<style scoped>\n",
       "    .dataframe tbody tr th:only-of-type {\n",
       "        vertical-align: middle;\n",
       "    }\n",
       "\n",
       "    .dataframe tbody tr th {\n",
       "        vertical-align: top;\n",
       "    }\n",
       "\n",
       "    .dataframe thead th {\n",
       "        text-align: right;\n",
       "    }\n",
       "</style>\n",
       "<table border=\"1\" class=\"dataframe\">\n",
       "  <thead>\n",
       "    <tr style=\"text-align: right;\">\n",
       "      <th></th>\n",
       "      <th>felony</th>\n",
       "      <th>male</th>\n",
       "      <th>age</th>\n",
       "      <th>juv_fel_count</th>\n",
       "      <th>juv_misd_count</th>\n",
       "      <th>juv_other_count</th>\n",
       "      <th>priors_count</th>\n",
       "    </tr>\n",
       "  </thead>\n",
       "  <tbody>\n",
       "    <tr>\n",
       "      <th>count</th>\n",
       "      <td>7214.000000</td>\n",
       "      <td>7214.000000</td>\n",
       "      <td>7214.000000</td>\n",
       "      <td>7214.000000</td>\n",
       "      <td>7214.000000</td>\n",
       "      <td>7214.000000</td>\n",
       "      <td>7214.000000</td>\n",
       "    </tr>\n",
       "    <tr>\n",
       "      <th>mean</th>\n",
       "      <td>0.646798</td>\n",
       "      <td>0.806626</td>\n",
       "      <td>34.817993</td>\n",
       "      <td>0.067230</td>\n",
       "      <td>0.090934</td>\n",
       "      <td>0.109371</td>\n",
       "      <td>3.472415</td>\n",
       "    </tr>\n",
       "    <tr>\n",
       "      <th>std</th>\n",
       "      <td>0.477998</td>\n",
       "      <td>0.394971</td>\n",
       "      <td>11.888922</td>\n",
       "      <td>0.473972</td>\n",
       "      <td>0.485239</td>\n",
       "      <td>0.501586</td>\n",
       "      <td>4.882538</td>\n",
       "    </tr>\n",
       "    <tr>\n",
       "      <th>min</th>\n",
       "      <td>0.000000</td>\n",
       "      <td>0.000000</td>\n",
       "      <td>18.000000</td>\n",
       "      <td>0.000000</td>\n",
       "      <td>0.000000</td>\n",
       "      <td>0.000000</td>\n",
       "      <td>0.000000</td>\n",
       "    </tr>\n",
       "    <tr>\n",
       "      <th>25%</th>\n",
       "      <td>0.000000</td>\n",
       "      <td>1.000000</td>\n",
       "      <td>25.000000</td>\n",
       "      <td>0.000000</td>\n",
       "      <td>0.000000</td>\n",
       "      <td>0.000000</td>\n",
       "      <td>0.000000</td>\n",
       "    </tr>\n",
       "    <tr>\n",
       "      <th>50%</th>\n",
       "      <td>1.000000</td>\n",
       "      <td>1.000000</td>\n",
       "      <td>31.000000</td>\n",
       "      <td>0.000000</td>\n",
       "      <td>0.000000</td>\n",
       "      <td>0.000000</td>\n",
       "      <td>2.000000</td>\n",
       "    </tr>\n",
       "    <tr>\n",
       "      <th>75%</th>\n",
       "      <td>1.000000</td>\n",
       "      <td>1.000000</td>\n",
       "      <td>42.000000</td>\n",
       "      <td>0.000000</td>\n",
       "      <td>0.000000</td>\n",
       "      <td>0.000000</td>\n",
       "      <td>5.000000</td>\n",
       "    </tr>\n",
       "    <tr>\n",
       "      <th>max</th>\n",
       "      <td>1.000000</td>\n",
       "      <td>1.000000</td>\n",
       "      <td>96.000000</td>\n",
       "      <td>20.000000</td>\n",
       "      <td>13.000000</td>\n",
       "      <td>17.000000</td>\n",
       "      <td>38.000000</td>\n",
       "    </tr>\n",
       "  </tbody>\n",
       "</table>\n",
       "</div>"
      ],
      "text/plain": [
       "            felony         male          age  juv_fel_count  juv_misd_count  \\\n",
       "count  7214.000000  7214.000000  7214.000000    7214.000000     7214.000000   \n",
       "mean      0.646798     0.806626    34.817993       0.067230        0.090934   \n",
       "std       0.477998     0.394971    11.888922       0.473972        0.485239   \n",
       "min       0.000000     0.000000    18.000000       0.000000        0.000000   \n",
       "25%       0.000000     1.000000    25.000000       0.000000        0.000000   \n",
       "50%       1.000000     1.000000    31.000000       0.000000        0.000000   \n",
       "75%       1.000000     1.000000    42.000000       0.000000        0.000000   \n",
       "max       1.000000     1.000000    96.000000      20.000000       13.000000   \n",
       "\n",
       "       juv_other_count  priors_count  \n",
       "count      7214.000000   7214.000000  \n",
       "mean          0.109371      3.472415  \n",
       "std           0.501586      4.882538  \n",
       "min           0.000000      0.000000  \n",
       "25%           0.000000      0.000000  \n",
       "50%           0.000000      2.000000  \n",
       "75%           0.000000      5.000000  \n",
       "max          17.000000     38.000000  "
      ]
     },
     "execution_count": 208,
     "metadata": {},
     "output_type": "execute_result"
    }
   ],
   "source": [
    "# predictors\n",
    "predictors = ['felony',\n",
    "              'male', 'age', \n",
    "              'juv_fel_count','juv_misd_count', 'juv_other_count', 'priors_count']\n",
    "X = df[predictors]\n",
    "X.describe()"
   ]
  },
  {
   "cell_type": "code",
   "execution_count": 209,
   "metadata": {},
   "outputs": [
    {
     "data": {
      "text/plain": [
       "African-American    3696\n",
       "Caucasian           2454\n",
       "Hispanic             637\n",
       "Other                377\n",
       "Asian                 32\n",
       "Native American       18\n",
       "Name: race, dtype: int64"
      ]
     },
     "execution_count": 209,
     "metadata": {},
     "output_type": "execute_result"
    }
   ],
   "source": [
    "df['race'].value_counts()"
   ]
  },
  {
   "cell_type": "code",
   "execution_count": 210,
   "metadata": {},
   "outputs": [
    {
     "data": {
      "text/plain": [
       "count    7214.000000\n",
       "mean        0.659828\n",
       "std         0.473800\n",
       "min         0.000000\n",
       "25%         0.000000\n",
       "50%         1.000000\n",
       "75%         1.000000\n",
       "max         1.000000\n",
       "Name: race, dtype: float64"
      ]
     },
     "execution_count": 210,
     "metadata": {},
     "output_type": "execute_result"
    }
   ],
   "source": [
    "# indicator variable for non-white\n",
    "NW = (df['race'] != 'Caucasian').astype(int)\n",
    "NW.describe()"
   ]
  },
  {
   "cell_type": "markdown",
   "metadata": {},
   "source": [
    "## Assessing Algorithm: Predict Recidivism from Features"
   ]
  },
  {
   "cell_type": "markdown",
   "metadata": {},
   "source": [
    "In the following you will predict recidivism from defendants' features using a nested training/test split so we can get clean test-set predictions for the whole dataset (see the notebook and homework on double machine learning for how to do this - week 6)."
   ]
  },
  {
   "cell_type": "code",
   "execution_count": 211,
   "metadata": {
    "scrolled": true
   },
   "outputs": [],
   "source": [
    "# perform nested train/test split \n",
    "from sklearn.model_selection import train_test_split\n",
    "X_a, X_b, Y_a, Y_b, D_a, D_b, NW_a, NW_b = train_test_split(X, Y, D, NW, test_size = 0.5, random_state=4567)"
   ]
  },
  {
   "cell_type": "code",
   "execution_count": 212,
   "metadata": {},
   "outputs": [
    {
     "data": {
      "text/html": [
       "<style>#sk-container-id-6 {color: black;background-color: white;}#sk-container-id-6 pre{padding: 0;}#sk-container-id-6 div.sk-toggleable {background-color: white;}#sk-container-id-6 label.sk-toggleable__label {cursor: pointer;display: block;width: 100%;margin-bottom: 0;padding: 0.3em;box-sizing: border-box;text-align: center;}#sk-container-id-6 label.sk-toggleable__label-arrow:before {content: \"▸\";float: left;margin-right: 0.25em;color: #696969;}#sk-container-id-6 label.sk-toggleable__label-arrow:hover:before {color: black;}#sk-container-id-6 div.sk-estimator:hover label.sk-toggleable__label-arrow:before {color: black;}#sk-container-id-6 div.sk-toggleable__content {max-height: 0;max-width: 0;overflow: hidden;text-align: left;background-color: #f0f8ff;}#sk-container-id-6 div.sk-toggleable__content pre {margin: 0.2em;color: black;border-radius: 0.25em;background-color: #f0f8ff;}#sk-container-id-6 input.sk-toggleable__control:checked~div.sk-toggleable__content {max-height: 200px;max-width: 100%;overflow: auto;}#sk-container-id-6 input.sk-toggleable__control:checked~label.sk-toggleable__label-arrow:before {content: \"▾\";}#sk-container-id-6 div.sk-estimator input.sk-toggleable__control:checked~label.sk-toggleable__label {background-color: #d4ebff;}#sk-container-id-6 div.sk-label input.sk-toggleable__control:checked~label.sk-toggleable__label {background-color: #d4ebff;}#sk-container-id-6 input.sk-hidden--visually {border: 0;clip: rect(1px 1px 1px 1px);clip: rect(1px, 1px, 1px, 1px);height: 1px;margin: -1px;overflow: hidden;padding: 0;position: absolute;width: 1px;}#sk-container-id-6 div.sk-estimator {font-family: monospace;background-color: #f0f8ff;border: 1px dotted black;border-radius: 0.25em;box-sizing: border-box;margin-bottom: 0.5em;}#sk-container-id-6 div.sk-estimator:hover {background-color: #d4ebff;}#sk-container-id-6 div.sk-parallel-item::after {content: \"\";width: 100%;border-bottom: 1px solid gray;flex-grow: 1;}#sk-container-id-6 div.sk-label:hover label.sk-toggleable__label {background-color: #d4ebff;}#sk-container-id-6 div.sk-serial::before {content: \"\";position: absolute;border-left: 1px solid gray;box-sizing: border-box;top: 0;bottom: 0;left: 50%;z-index: 0;}#sk-container-id-6 div.sk-serial {display: flex;flex-direction: column;align-items: center;background-color: white;padding-right: 0.2em;padding-left: 0.2em;position: relative;}#sk-container-id-6 div.sk-item {position: relative;z-index: 1;}#sk-container-id-6 div.sk-parallel {display: flex;align-items: stretch;justify-content: center;background-color: white;position: relative;}#sk-container-id-6 div.sk-item::before, #sk-container-id-6 div.sk-parallel-item::before {content: \"\";position: absolute;border-left: 1px solid gray;box-sizing: border-box;top: 0;bottom: 0;left: 50%;z-index: -1;}#sk-container-id-6 div.sk-parallel-item {display: flex;flex-direction: column;z-index: 1;position: relative;background-color: white;}#sk-container-id-6 div.sk-parallel-item:first-child::after {align-self: flex-end;width: 50%;}#sk-container-id-6 div.sk-parallel-item:last-child::after {align-self: flex-start;width: 50%;}#sk-container-id-6 div.sk-parallel-item:only-child::after {width: 0;}#sk-container-id-6 div.sk-dashed-wrapped {border: 1px dashed gray;margin: 0 0.4em 0.5em 0.4em;box-sizing: border-box;padding-bottom: 0.4em;background-color: white;}#sk-container-id-6 div.sk-label label {font-family: monospace;font-weight: bold;display: inline-block;line-height: 1.2em;}#sk-container-id-6 div.sk-label-container {text-align: center;}#sk-container-id-6 div.sk-container {/* jupyter's `normalize.less` sets `[hidden] { display: none; }` but bootstrap.min.css set `[hidden] { display: none !important; }` so we also need the `!important` here to be able to override the default hidden behavior on the sphinx rendered scikit-learn.org. See: https://github.com/scikit-learn/scikit-learn/issues/21755 */display: inline-block !important;position: relative;}#sk-container-id-6 div.sk-text-repr-fallback {display: none;}</style><div id=\"sk-container-id-6\" class=\"sk-top-container\"><div class=\"sk-text-repr-fallback\"><pre>LogisticRegression(random_state=4567)</pre><b>In a Jupyter environment, please rerun this cell to show the HTML representation or trust the notebook. <br />On GitHub, the HTML representation is unable to render, please try loading this page with nbviewer.org.</b></div><div class=\"sk-container\" hidden><div class=\"sk-item\"><div class=\"sk-estimator sk-toggleable\"><input class=\"sk-toggleable__control sk-hidden--visually\" id=\"sk-estimator-id-6\" type=\"checkbox\" checked><label for=\"sk-estimator-id-6\" class=\"sk-toggleable__label sk-toggleable__label-arrow\">LogisticRegression</label><div class=\"sk-toggleable__content\"><pre>LogisticRegression(random_state=4567)</pre></div></div></div></div></div>"
      ],
      "text/plain": [
       "LogisticRegression(random_state=4567)"
      ]
     },
     "execution_count": 212,
     "metadata": {},
     "output_type": "execute_result"
    }
   ],
   "source": [
    "#TODO train a logit model to predict recidism (Y) from predictors (X).\n",
    "from sklearn.linear_model import LogisticRegression\n",
    "\n",
    "classifier_a = LogisticRegression(random_state=4567)\n",
    "classifier_b = LogisticRegression(random_state=4567)\n",
    "\n",
    "classifier_a.fit(X_a, Y_a)\n",
    "classifier_b.fit(X_b, Y_b)"
   ]
  },
  {
   "cell_type": "code",
   "execution_count": 213,
   "metadata": {},
   "outputs": [],
   "source": [
    "#TODO form clean test-set predictions for recidivism in the full dataset\n",
    "Y_hat_a = classifier_b.predict(X_a)\n",
    "Y_hat_b = classifier_a.predict(X_b)\n",
    "\n",
    "Y_scores_a = classifier_b.predict_proba(X_a)[:,1]\n",
    "Y_scores_b = classifier_a.predict_proba(X_b)[:,1]"
   ]
  },
  {
   "cell_type": "code",
   "execution_count": 214,
   "metadata": {},
   "outputs": [],
   "source": [
    "df_pred = X_a.append(X_b)\n",
    "\n",
    "Y_a_df = Y_a.to_frame()\n",
    "Y_a_df['Y_hat'] = Y_hat_a\n",
    "Y_a_df['Y_score'] = Y_scores_a\n",
    "\n",
    "Y_b_df = Y_b.to_frame()\n",
    "Y_b_df['Y_hat'] = Y_hat_a\n",
    "Y_b_df['Y_score'] = Y_scores_b\n",
    "\n",
    "Y_pred = Y_a_df.append(Y_b_df)\n",
    "df_pred = df_pred.merge(Y_pred, left_index=True, right_index=True)"
   ]
  },
  {
   "cell_type": "markdown",
   "metadata": {},
   "source": [
    "Evaluate test set performance."
   ]
  },
  {
   "cell_type": "code",
   "execution_count": 215,
   "metadata": {},
   "outputs": [],
   "source": [
    "#TODO show a confusion matrix, compute accuracy, balanced accuracy, and roc_auc\n",
    "#TODO compute ratio of false positives to false negatives"
   ]
  },
  {
   "cell_type": "code",
   "execution_count": 216,
   "metadata": {
    "scrolled": true
   },
   "outputs": [
    {
     "data": {
      "text/plain": [
       "<sklearn.metrics._plot.confusion_matrix.ConfusionMatrixDisplay at 0x1878d432e20>"
      ]
     },
     "execution_count": 216,
     "metadata": {},
     "output_type": "execute_result"
    },
    {
     "data": {
      "image/png": "[encoded data removed]",
      "text/plain": [
       "<Figure size 640x480 with 2 Axes>"
      ]
     },
     "metadata": {},
     "output_type": "display_data"
    }
   ],
   "source": [
    "# Confusion matrix\n",
    "from sklearn.metrics import ConfusionMatrixDisplay\n",
    "ConfusionMatrixDisplay.from_predictions(df_pred.two_year_recid2, df_pred.Y_hat)"
   ]
  },
  {
   "cell_type": "code",
   "execution_count": 217,
   "metadata": {},
   "outputs": [
    {
     "data": {
      "text/plain": [
       "0.19218679838347552"
      ]
     },
     "execution_count": 217,
     "metadata": {},
     "output_type": "execute_result"
    }
   ],
   "source": [
    "# Ratio of false positives to false negatives\n",
    "428/2227"
   ]
  },
  {
   "cell_type": "code",
   "execution_count": 218,
   "metadata": {},
   "outputs": [
    {
     "name": "stdout",
     "output_type": "stream",
     "text": [
      "              precision    recall  f1-score   support\n",
      "\n",
      "           0       0.65      0.91      0.76      4557\n",
      "           1       0.50      0.16      0.24      2657\n",
      "\n",
      "    accuracy                           0.63      7214\n",
      "   macro avg       0.58      0.53      0.50      7214\n",
      "weighted avg       0.59      0.63      0.57      7214\n",
      "\n"
     ]
    }
   ],
   "source": [
    "from sklearn.metrics import accuracy_score, balanced_accuracy_score, roc_auc_score\n",
    "from sklearn.metrics import classification_report\n",
    "print(classification_report(df_pred.two_year_recid2, df_pred.Y_hat))"
   ]
  },
  {
   "cell_type": "code",
   "execution_count": 219,
   "metadata": {},
   "outputs": [
    {
     "data": {
      "text/plain": [
       "<sklearn.metrics._plot.roc_curve.RocCurveDisplay at 0x1878e8393a0>"
      ]
     },
     "execution_count": 219,
     "metadata": {},
     "output_type": "execute_result"
    },
    {
     "data": {
      "image/png": "[encoded data removed]",
      "text/plain": [
       "<Figure size 640x480 with 1 Axes>"
      ]
     },
     "metadata": {},
     "output_type": "display_data"
    }
   ],
   "source": [
    "from sklearn.metrics import RocCurveDisplay\n",
    "RocCurveDisplay.from_predictions(df_pred.two_year_recid2, df_pred.Y_score)"
   ]
  },
  {
   "cell_type": "markdown",
   "metadata": {},
   "source": [
    "### Compare treatment of whites and non-whites for recidivism prediction\n",
    "##### Refer to week 11 for these concepts"
   ]
  },
  {
   "cell_type": "markdown",
   "metadata": {},
   "source": [
    "#### Base Rates"
   ]
  },
  {
   "cell_type": "code",
   "execution_count": 220,
   "metadata": {},
   "outputs": [],
   "source": [
    "##TODO Compare base rates for recidivism outcomes of whites and non-whites\n",
    "\n",
    "df_pred = df_pred.merge(df['race'], left_index=True, right_index=True)\n",
    "df_pred_w = df_pred[df_pred['race']=='Caucasian']\n",
    "df_pred_nw = df_pred[df_pred['race']!='Caucasian']"
   ]
  },
  {
   "cell_type": "code",
   "execution_count": 221,
   "metadata": {},
   "outputs": [
    {
     "name": "stdout",
     "output_type": "stream",
     "text": [
      "Non-white recidivism rate      0.389\n",
      "White recidivism rate          0.328\n"
     ]
    }
   ],
   "source": [
    "print(\"{:30s} {:.3f}\".format(\"Non-white recidivism rate\", df_pred_nw.two_year_recid2.sum() / df_pred_nw.two_year_recid2.count()))\n",
    "print(\"{:30s} {:.3f}\".format(\"White recidivism rate\", df_pred_w.two_year_recid2.sum() / df_pred_w.two_year_recid2.count()))"
   ]
  },
  {
   "cell_type": "markdown",
   "metadata": {},
   "source": [
    "#### Performance"
   ]
  },
  {
   "cell_type": "code",
   "execution_count": 222,
   "metadata": {},
   "outputs": [
    {
     "data": {
      "text/plain": [
       "<sklearn.metrics._plot.confusion_matrix.ConfusionMatrixDisplay at 0x1878e8edb20>"
      ]
     },
     "execution_count": 222,
     "metadata": {},
     "output_type": "execute_result"
    },
    {
     "data": {
      "image/png": "[encoded data removed]",
      "text/plain": [
       "<Figure size 640x480 with 2 Axes>"
      ]
     },
     "metadata": {},
     "output_type": "display_data"
    },
    {
     "data": {
      "image/png": "[encoded data removed]",
      "text/plain": [
       "<Figure size 640x480 with 2 Axes>"
      ]
     },
     "metadata": {},
     "output_type": "display_data"
    }
   ],
   "source": [
    "##TODO Produce confusion matrices, classification reports, and ratio of false positives to false negatives, separately for whites and non-whites.\n",
    "\n",
    "# Confusion matrix\n",
    "ConfusionMatrixDisplay.from_predictions(df_pred_nw.two_year_recid2, df_pred_nw.Y_hat)\n",
    "ConfusionMatrixDisplay.from_predictions(df_pred_w.two_year_recid2, df_pred_w.Y_hat)"
   ]
  },
  {
   "cell_type": "code",
   "execution_count": 223,
   "metadata": {},
   "outputs": [
    {
     "name": "stdout",
     "output_type": "stream",
     "text": [
      "Non-white\n",
      "              precision    recall  f1-score   support\n",
      "\n",
      "           0       0.63      0.90      0.74      2908\n",
      "           1       0.53      0.18      0.27      1852\n",
      "\n",
      "    accuracy                           0.62      4760\n",
      "   macro avg       0.58      0.54      0.50      4760\n",
      "weighted avg       0.59      0.62      0.56      4760\n",
      "\n",
      "False positives / false negatives: 0.196581\n",
      "\n",
      "White\n",
      "              precision    recall  f1-score   support\n",
      "\n",
      "           0       0.68      0.92      0.78      1649\n",
      "           1       0.43      0.12      0.19       805\n",
      "\n",
      "    accuracy                           0.66      2454\n",
      "   macro avg       0.56      0.52      0.49      2454\n",
      "weighted avg       0.60      0.66      0.59      2454\n",
      "\n",
      "False positives / false negatives: 0.182720\n"
     ]
    }
   ],
   "source": [
    "print('Non-white')\n",
    "print(classification_report(df_pred_nw.two_year_recid2, df_pred_nw.Y_hat))\n",
    "print('False positives / false negatives: %f' % (299/1521))\n",
    "\n",
    "print('')\n",
    "print('White')\n",
    "print(classification_report(df_pred_w.two_year_recid2, df_pred_w.Y_hat))\n",
    "print('False positives / false negatives: %f' % (129/706))"
   ]
  },
  {
   "cell_type": "code",
   "execution_count": 224,
   "metadata": {},
   "outputs": [
    {
     "name": "stdout",
     "output_type": "stream",
     "text": [
      "Average predicted recidivism Non-Whites: 0.1323529411764706\n",
      "Average predicted recidivism Whites: 0.09290953545232274\n"
     ]
    }
   ],
   "source": [
    "#Statistical parity\n",
    "print('Average predicted recidivism Non-Whites:', sum(df_pred_nw.Y_hat==1)/df_pred_nw.Y_hat.count())\n",
    "print('Average predicted recidivism Whites:', sum(df_pred_w.Y_hat==1)/df_pred_w.Y_hat.count())"
   ]
  },
  {
   "attachments": {},
   "cell_type": "markdown",
   "metadata": {},
   "source": [
    "**What concepts of \"fairness\" (from class) are (approximately) satisfied by this classifier? Explain.**\n",
    "\n",
    "Statstical parity: \n",
    "The average predicted outcome for Non-whites is about 4 percentage points higher for Non-Whites than for Whites, so statistical parity is not satisfied.\n",
    "\n",
    "Separation:\n",
    "Recall for the negative class is quite similar, but recall for the positive class is higher for Non-Whites. Recidivism is less well detected for Whites.\n",
    "\n",
    "Precision:\n",
    "Precision for the negative class is higher for Whites, for the positive class it is higher for Non-Whites."
   ]
  },
  {
   "cell_type": "markdown",
   "metadata": {},
   "source": [
    "## Assessing Judges' Decisions: Predict Judge Decision from Features"
   ]
  },
  {
   "cell_type": "markdown",
   "metadata": {},
   "source": [
    "In the following you will predict judges' decisions from defendants' features using a nested training/test split as before. In a second model, include Y-hat from previous section as a predictor."
   ]
  },
  {
   "cell_type": "code",
   "execution_count": 225,
   "metadata": {},
   "outputs": [],
   "source": [
    "#TODO train a logit model to predict judge decision (D) from predictors (X). \n",
    "\n",
    "classifier_a = LogisticRegression()\n",
    "classifier_b = LogisticRegression()\n",
    "\n",
    "classifier_a.fit(X_a, D_a)\n",
    "classifier_b.fit(X_b, D_b)\n",
    "\n",
    "D_hat_a1 = classifier_b.predict(X_a)\n",
    "D_hat_b1 = classifier_a.predict(X_b)\n",
    "\n",
    "D_score_a1 = classifier_b.predict_proba(X_a)[:,1]\n",
    "D_score_b1 = classifier_a.predict_proba(X_b)[:,1]"
   ]
  },
  {
   "cell_type": "code",
   "execution_count": 226,
   "metadata": {},
   "outputs": [],
   "source": [
    "predictors.append('Y_hat')"
   ]
  },
  {
   "cell_type": "code",
   "execution_count": 227,
   "metadata": {},
   "outputs": [],
   "source": [
    "X_a_Y_hat = df_pred[predictors].iloc[X_a.index]\n",
    "X_b_Y_hat = df_pred[predictors].iloc[X_b.index]"
   ]
  },
  {
   "cell_type": "code",
   "execution_count": 228,
   "metadata": {
    "scrolled": false
   },
   "outputs": [],
   "source": [
    "#TODO train a logit model to predict judge decision (D) from predictors (X) and predicted recidivism risk (Yhat)\n",
    "#TODO form clean test-set predictions for the decisions in the full dataset\n",
    "\n",
    "classifier_a = LogisticRegression()\n",
    "classifier_b = LogisticRegression()\n",
    "\n",
    "classifier_a.fit(X_a_Y_hat, D_a)\n",
    "classifier_b.fit(X_b_Y_hat, D_b)\n",
    "\n",
    "D_hat_a2 = classifier_b.predict(X_a_Y_hat)\n",
    "D_hat_b2 = classifier_a.predict(X_b_Y_hat)\n",
    "\n",
    "D_score_a2 = classifier_b.predict_proba(X_a_Y_hat)[:,1]\n",
    "D_score_b2 = classifier_a.predict_proba(X_b_Y_hat)[:,1]"
   ]
  },
  {
   "cell_type": "code",
   "execution_count": 229,
   "metadata": {},
   "outputs": [],
   "source": [
    "D_a_df = D_a.to_frame()\n",
    "D_a_df['jailed_hat'] = D_hat_a1\n",
    "D_a_df['jailed_score'] = D_score_a1\n",
    "D_a_df['jailed_hat2'] = D_hat_a2\n",
    "D_a_df['jailed_score2'] = D_score_a2\n",
    "\n",
    "D_b_df = D_b.to_frame()\n",
    "D_b_df['jailed_hat'] = D_hat_b1\n",
    "D_b_df['jailed_score'] = D_score_b1\n",
    "D_b_df['jailed_hat2'] = D_hat_b2\n",
    "D_b_df['jailed_score2'] = D_score_b2\n",
    "\n",
    "D_pred = D_a_df.append(D_b_df)\n",
    "df_pred = df_pred.merge(D_pred, left_index=True, right_index=True)"
   ]
  },
  {
   "cell_type": "code",
   "execution_count": 230,
   "metadata": {},
   "outputs": [],
   "source": [
    "df_pred_w = df_pred[df_pred['race']=='Caucasian']\n",
    "df_pred_nw = df_pred[df_pred['race']!='Caucasian']"
   ]
  },
  {
   "cell_type": "markdown",
   "metadata": {},
   "source": [
    "### Compare treatment of whites and non-whites for recidivism prediction"
   ]
  },
  {
   "cell_type": "code",
   "execution_count": 231,
   "metadata": {},
   "outputs": [
    {
     "name": "stdout",
     "output_type": "stream",
     "text": [
      "Prediction only with X\n",
      "\n",
      "Non-white\n",
      "              precision    recall  f1-score   support\n",
      "\n",
      "           0       0.63      0.85      0.72      2798\n",
      "           1       0.58      0.29      0.38      1962\n",
      "\n",
      "    accuracy                           0.62      4760\n",
      "   macro avg       0.60      0.57      0.55      4760\n",
      "weighted avg       0.61      0.62      0.58      4760\n",
      "\n",
      "[[2380  418]\n",
      " [1395  567]]\n",
      "False positives / false negatives: 0.299642\n",
      "\n",
      "White\n",
      "              precision    recall  f1-score   support\n",
      "\n",
      "           0       0.64      0.93      0.76      1485\n",
      "           1       0.64      0.18      0.29       969\n",
      "\n",
      "    accuracy                           0.64      2454\n",
      "   macro avg       0.64      0.56      0.52      2454\n",
      "weighted avg       0.64      0.64      0.57      2454\n",
      "\n",
      "[[1386   99]\n",
      " [ 790  179]]\n",
      "False positives / false negatives: 0.125316\n"
     ]
    }
   ],
   "source": [
    "##TODO Produce confusion matrices, classification reports, and ratio of false positives to false negatives, \n",
    "##TODO separately for whites and non-whites, and with/without including Y-hat as a predictor.\n",
    "\n",
    "from sklearn.metrics import confusion_matrix\n",
    "\n",
    "print('Prediction only with X')\n",
    "print('')\n",
    "\n",
    "print('Non-white')\n",
    "print(classification_report(df_pred_nw.jailed, df_pred_nw.jailed_hat))\n",
    "print(confusion_matrix(df_pred_nw.jailed, df_pred_nw.jailed_hat))\n",
    "print('False positives / false negatives: %f' % (418/1395))\n",
    "\n",
    "print('')\n",
    "print('White')\n",
    "print(classification_report(df_pred_w.jailed, df_pred_w.jailed_hat))\n",
    "print(confusion_matrix(df_pred_w.jailed, df_pred_w.jailed_hat))\n",
    "print('False positives / false negatives: %f' % (99/790))"
   ]
  },
  {
   "cell_type": "code",
   "execution_count": 232,
   "metadata": {},
   "outputs": [
    {
     "name": "stdout",
     "output_type": "stream",
     "text": [
      "Prediction with X and Yhat\n",
      "\n",
      "Non-white\n",
      "              precision    recall  f1-score   support\n",
      "\n",
      "           0       0.59      0.99      0.74      2798\n",
      "           1       0.46      0.01      0.02      1962\n",
      "\n",
      "    accuracy                           0.59      4760\n",
      "   macro avg       0.52      0.50      0.38      4760\n",
      "weighted avg       0.53      0.59      0.44      4760\n",
      "\n",
      "[[2773   25]\n",
      " [1941   21]]\n",
      "False positives / false negatives: 0.012880\n",
      "\n",
      "White\n",
      "              precision    recall  f1-score   support\n",
      "\n",
      "           0       0.60      0.99      0.75      1485\n",
      "           1       0.30      0.01      0.01       969\n",
      "\n",
      "    accuracy                           0.60      2454\n",
      "   macro avg       0.45      0.50      0.38      2454\n",
      "weighted avg       0.49      0.60      0.46      2454\n",
      "\n",
      "[[1469   16]\n",
      " [ 962    7]]\n",
      "False positives / false negatives: 0.016632\n"
     ]
    }
   ],
   "source": [
    "\n",
    "print('Prediction with X and Yhat')\n",
    "print('')\n",
    "\n",
    "print('Non-white')\n",
    "print(classification_report(df_pred_nw.jailed, df_pred_nw.jailed_hat2))\n",
    "print(confusion_matrix(df_pred_nw.jailed, df_pred_nw.jailed_hat2))\n",
    "print('False positives / false negatives: %f' % (25/1941))\n",
    "\n",
    "print('')\n",
    "print('White')\n",
    "print(classification_report(df_pred_w.jailed, df_pred_w.jailed_hat2))\n",
    "print(confusion_matrix(df_pred_w.jailed, df_pred_w.jailed_hat2))\n",
    "print('False positives / false negatives: %f' % (16/962))"
   ]
  },
  {
   "cell_type": "markdown",
   "metadata": {},
   "source": [
    "### Enforcing Statistical Parity"
   ]
  },
  {
   "cell_type": "markdown",
   "metadata": {},
   "source": [
    "In this part you will find the the group-specific thresholds for both models of judges' decision (with/without Yhat) that obtain statistical parity.\n",
    "\n",
    "You can use a custom classifier `threshold` for the decision with this type of code snippet: `decisions = (logit.predict_proba(X) >= threshold).astype(int)`."
   ]
  },
  {
   "cell_type": "markdown",
   "metadata": {},
   "source": [
    "#### Model without Yhat"
   ]
  },
  {
   "cell_type": "code",
   "execution_count": 233,
   "metadata": {},
   "outputs": [
    {
     "name": "stdout",
     "output_type": "stream",
     "text": [
      "Average predicted outcome Whites: 0.1132844335778321\n",
      "Average predicted outcome Non-Whites: 0.20693277310924368\n"
     ]
    }
   ],
   "source": [
    "##Find the largest and lowest thresholds to enforce statistical parity\n",
    "##hint: build a recursive function to find the probability threshold that minimizes \n",
    "## the difference between the predicted outcomes for whites and non whites\n",
    "\n",
    "# Average predicted outcome per group\n",
    "N_w = df_pred_w.jailed_hat.count()\n",
    "N_nw = df_pred_nw.jailed_hat.count()\n",
    "avg_y_pred_w = df_pred_w[df_pred_w['jailed_hat'] == 1].count()['jailed_hat']/N_w\n",
    "avg_y_pred_nw = df_pred_nw[df_pred_nw['jailed_hat'] == 1].count()['jailed_hat']/N_nw\n",
    "\n",
    "print(\"Average predicted outcome Whites:\", avg_y_pred_w)\n",
    "print(\"Average predicted outcome Non-Whites:\", avg_y_pred_nw)"
   ]
  },
  {
   "cell_type": "code",
   "execution_count": 234,
   "metadata": {},
   "outputs": [],
   "source": [
    "difference = 15\n",
    "threshold = 0.5\n",
    "epsilon = 0.01\n",
    "\n",
    "while difference > epsilon:\n",
    "    threshold = threshold + 0.01\n",
    "    avg_y_pred_w = sum(df_pred_w.jailed_score >= threshold)/N_w\n",
    "    avg_y_pred_nw = sum(df_pred_nw.jailed_score >= threshold)/N_nw\n",
    "    difference = abs(avg_y_pred_w - avg_y_pred_nw)"
   ]
  },
  {
   "cell_type": "code",
   "execution_count": 235,
   "metadata": {},
   "outputs": [
    {
     "name": "stdout",
     "output_type": "stream",
     "text": [
      "The largest threshold to enforce statistical parity is: 0.8000000000000003\n",
      "Average predicted outcome Whites: 0.004482477587612062\n",
      "Average predicted outcome Non-Whites: 0.013445378151260505\n"
     ]
    }
   ],
   "source": [
    "print(\"The largest threshold to enforce statistical parity is:\", threshold)\n",
    "print(\"Average predicted outcome Whites:\", avg_y_pred_w)\n",
    "print(\"Average predicted outcome Non-Whites:\", avg_y_pred_nw)"
   ]
  },
  {
   "cell_type": "code",
   "execution_count": 236,
   "metadata": {},
   "outputs": [],
   "source": [
    "difference = 15\n",
    "threshold = 0.5\n",
    "epsilon = 0.01\n",
    "\n",
    "while difference > epsilon:\n",
    "    threshold = threshold - 0.01\n",
    "    avg_y_pred_w = sum(df_pred_w.jailed_score >= threshold)/N_w\n",
    "    avg_y_pred_nw = sum(df_pred_nw.jailed_score >= threshold)/N_nw\n",
    "    difference = abs(avg_y_pred_w - avg_y_pred_nw)"
   ]
  },
  {
   "cell_type": "code",
   "execution_count": 237,
   "metadata": {},
   "outputs": [
    {
     "name": "stdout",
     "output_type": "stream",
     "text": [
      "The largest threshold to enforce statistical parity is: 0.21999999999999975\n",
      "Average predicted outcome Whites: 0.9951100244498777\n",
      "Average predicted outcome Non-Whites: 0.9964285714285714\n"
     ]
    }
   ],
   "source": [
    "print(\"The largest threshold to enforce statistical parity is:\", threshold)\n",
    "print(\"Average predicted outcome Whites:\", avg_y_pred_w)\n",
    "print(\"Average predicted outcome Non-Whites:\", avg_y_pred_nw)"
   ]
  },
  {
   "cell_type": "markdown",
   "metadata": {},
   "source": [
    "#### Model with Yhat"
   ]
  },
  {
   "cell_type": "code",
   "execution_count": 238,
   "metadata": {
    "scrolled": true
   },
   "outputs": [
    {
     "name": "stdout",
     "output_type": "stream",
     "text": [
      "Average predicted outcome Whites: 0.009372453137734311\n",
      "Average predicted outcome Non-Whites: 0.009663865546218488\n",
      "The largest threshold to enforce statistical parity is: 0.8000000000000003\n",
      "Average predicted outcome Whites: 0.004482477587612062\n",
      "Average predicted outcome Non-Whites: 0.013445378151260505\n",
      "The smallest threshold to enforce statistical parity is: 0.21999999999999975\n",
      "Average predicted outcome Whites: 0.9951100244498777\n",
      "Average predicted outcome Non-Whites: 0.9964285714285714\n"
     ]
    }
   ],
   "source": [
    "##Find the largest and lowest thresholds to enforce statistical parity\n",
    "##hint: build a recursive function to find the probability threshold that minimizes \n",
    "## the difference between the predicted outcomes for whites and non whites\n",
    "\n",
    "# Average predicted outcome per group\n",
    "N_w = df_pred_w.jailed_hat2.count()\n",
    "N_nw = df_pred_nw.jailed_hat2.count()\n",
    "avg_y_pred_w = df_pred_w[df_pred_w['jailed_hat2'] == 1].count()['jailed_hat2']/N_w\n",
    "avg_y_pred_nw = df_pred_nw[df_pred_nw['jailed_hat2'] == 1].count()['jailed_hat2']/N_nw\n",
    "\n",
    "print(\"Average predicted outcome Whites:\", avg_y_pred_w)\n",
    "print(\"Average predicted outcome Non-Whites:\", avg_y_pred_nw)\n",
    "\n",
    "difference = 15\n",
    "threshold = 0.5\n",
    "epsilon = 0.01\n",
    "\n",
    "while difference > epsilon:\n",
    "    threshold = threshold + 0.01\n",
    "    avg_y_pred_w = sum(df_pred_w.jailed_score >= threshold)/N_w\n",
    "    avg_y_pred_nw = sum(df_pred_nw.jailed_score >= threshold)/N_nw\n",
    "    difference = abs(avg_y_pred_w - avg_y_pred_nw)\n",
    "\n",
    "print(\"The largest threshold to enforce statistical parity is:\", threshold)\n",
    "print(\"Average predicted outcome Whites:\", avg_y_pred_w)\n",
    "print(\"Average predicted outcome Non-Whites:\", avg_y_pred_nw)\n",
    "\n",
    "difference = 15\n",
    "threshold = 0.5\n",
    "epsilon = 0.01\n",
    "\n",
    "while difference > epsilon:\n",
    "    threshold = threshold - 0.01\n",
    "    avg_y_pred_w = sum(df_pred_w.jailed_score >= threshold)/N_w\n",
    "    avg_y_pred_nw = sum(df_pred_nw.jailed_score >= threshold)/N_nw\n",
    "    difference = abs(avg_y_pred_w - avg_y_pred_nw)\n",
    "\n",
    "print(\"The smallest threshold to enforce statistical parity is:\", threshold)\n",
    "print(\"Average predicted outcome Whites:\", avg_y_pred_w)\n",
    "print(\"Average predicted outcome Non-Whites:\", avg_y_pred_nw)"
   ]
  },
  {
   "cell_type": "markdown",
   "metadata": {},
   "source": [
    "# Bonus 1: More Fairness Constraints"
   ]
  },
  {
   "cell_type": "markdown",
   "metadata": {},
   "source": [
    "Find the threshold for both models (with/without Yhat) that obtains error rate balance (equality of recalls for each class."
   ]
  },
  {
   "cell_type": "code",
   "execution_count": 239,
   "metadata": {},
   "outputs": [],
   "source": [
    "##TODO"
   ]
  },
  {
   "cell_type": "markdown",
   "metadata": {},
   "source": [
    "Find the threshold for both models (with/without Yhat) that obtains predictive parity (equality of precisions for each class)."
   ]
  },
  {
   "cell_type": "code",
   "execution_count": 240,
   "metadata": {},
   "outputs": [],
   "source": [
    "##TODO"
   ]
  },
  {
   "cell_type": "markdown",
   "metadata": {},
   "source": [
    "Find the threshold for both models (with/without Yhat) that obtains treatment equality (ratio of false positives to false negatives)."
   ]
  },
  {
   "cell_type": "code",
   "execution_count": 241,
   "metadata": {
    "scrolled": true
   },
   "outputs": [],
   "source": [
    "##TODO"
   ]
  },
  {
   "cell_type": "markdown",
   "metadata": {},
   "source": [
    "# Bonus 2: Pre-Processing for Fairness"
   ]
  },
  {
   "cell_type": "markdown",
   "metadata": {},
   "source": [
    "Regress all predictors in `X` on the protected attribute `A` and produce residuals `Xtilde`. Re-do the prediction task above (predicting judges' decision) and discuss how it changes the fairness metrics."
   ]
  },
  {
   "cell_type": "code",
   "execution_count": 242,
   "metadata": {},
   "outputs": [],
   "source": [
    "##TODO"
   ]
  }
 ],
 "metadata": {
  "kernelspec": {
   "display_name": "Python 3.9.13 ('brj-course')",
   "language": "python",
   "name": "python3"
  },
  "language_info": {
   "codemirror_mode": {
    "name": "ipython",
    "version": 3
   },
   "file_extension": ".py",
   "mimetype": "text/x-python",
   "name": "python",
   "nbconvert_exporter": "python",
   "pygments_lexer": "ipython3",
   "version": "3.9.13 (main, Oct 13 2022, 21:23:06) [MSC v.1916 64 bit (AMD64)]"
  },
  "vscode": {
   "interpreter": {
    "hash": "88dbc22f836b631f637dcfc4375a58b315b0a79a63edde253f3a63ee642f5514"
   }
  }
 },
 "nbformat": 4,
 "nbformat_minor": 4
}
